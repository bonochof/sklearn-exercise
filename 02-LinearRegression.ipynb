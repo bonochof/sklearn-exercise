{
 "cells": [
  {
   "cell_type": "code",
   "execution_count": 1,
   "metadata": {},
   "outputs": [],
   "source": [
    "import numpy as np\n",
    "import matplotlib.pyplot as plt\n",
    "%matplotlib inline"
   ]
  },
  {
   "cell_type": "code",
   "execution_count": 2,
   "metadata": {},
   "outputs": [],
   "source": [
    "X = np.random.rand(100, 1)"
   ]
  },
  {
   "cell_type": "code",
   "execution_count": 3,
   "metadata": {
    "scrolled": true
   },
   "outputs": [
    {
     "data": {
      "text/plain": [
       "array([[5.91135056e-01],\n",
       "       [5.73985386e-01],\n",
       "       [1.85735679e-01],\n",
       "       [8.80367379e-01],\n",
       "       [3.35490799e-01],\n",
       "       [3.14537550e-01],\n",
       "       [2.97057133e-02],\n",
       "       [6.86201081e-02],\n",
       "       [6.34904098e-01],\n",
       "       [5.28490935e-01],\n",
       "       [6.07745751e-01],\n",
       "       [2.63106704e-01],\n",
       "       [7.26798986e-01],\n",
       "       [4.44524835e-01],\n",
       "       [7.61324826e-01],\n",
       "       [2.49222904e-01],\n",
       "       [6.07529652e-02],\n",
       "       [6.66303079e-02],\n",
       "       [1.51832133e-01],\n",
       "       [8.51093294e-01],\n",
       "       [9.06573884e-01],\n",
       "       [8.50275384e-01],\n",
       "       [6.30886897e-01],\n",
       "       [4.47684782e-01],\n",
       "       [3.29876831e-01],\n",
       "       [6.80523549e-01],\n",
       "       [8.47958628e-01],\n",
       "       [4.46664341e-01],\n",
       "       [7.70861780e-01],\n",
       "       [2.89876565e-01],\n",
       "       [7.36418246e-01],\n",
       "       [8.59622444e-04],\n",
       "       [7.96330597e-01],\n",
       "       [3.17234252e-01],\n",
       "       [1.89676411e-01],\n",
       "       [2.33551643e-01],\n",
       "       [7.73625569e-03],\n",
       "       [5.74340857e-01],\n",
       "       [3.66843000e-01],\n",
       "       [8.36252624e-01],\n",
       "       [6.65337948e-01],\n",
       "       [1.12652196e-01],\n",
       "       [8.05116410e-01],\n",
       "       [2.26482986e-01],\n",
       "       [1.48102730e-01],\n",
       "       [3.22375577e-01],\n",
       "       [1.96377419e-01],\n",
       "       [8.03121551e-01],\n",
       "       [3.39880862e-01],\n",
       "       [3.88299106e-01],\n",
       "       [5.94211064e-01],\n",
       "       [1.76125340e-02],\n",
       "       [1.80955423e-01],\n",
       "       [3.10914547e-01],\n",
       "       [4.20560978e-02],\n",
       "       [3.48367687e-01],\n",
       "       [9.28800235e-01],\n",
       "       [9.09200283e-01],\n",
       "       [8.19414561e-01],\n",
       "       [2.26062940e-01],\n",
       "       [8.65965703e-01],\n",
       "       [8.06792465e-01],\n",
       "       [8.71843396e-01],\n",
       "       [1.60026885e-01],\n",
       "       [1.84836183e-01],\n",
       "       [6.89423969e-01],\n",
       "       [1.40113271e-01],\n",
       "       [2.09193660e-01],\n",
       "       [1.59914775e-01],\n",
       "       [3.55530426e-01],\n",
       "       [6.61293303e-01],\n",
       "       [9.48084143e-01],\n",
       "       [6.80008008e-01],\n",
       "       [1.72909868e-01],\n",
       "       [5.72777128e-02],\n",
       "       [5.83614464e-01],\n",
       "       [7.92937288e-01],\n",
       "       [3.98366333e-01],\n",
       "       [2.83158454e-01],\n",
       "       [3.91955493e-01],\n",
       "       [6.22100458e-01],\n",
       "       [4.40166162e-01],\n",
       "       [7.88065259e-01],\n",
       "       [3.74586747e-01],\n",
       "       [6.72224861e-01],\n",
       "       [6.81567797e-01],\n",
       "       [4.08225401e-02],\n",
       "       [3.07711590e-01],\n",
       "       [3.46933719e-01],\n",
       "       [1.48984243e-01],\n",
       "       [6.60208594e-01],\n",
       "       [5.68514077e-01],\n",
       "       [6.88858732e-01],\n",
       "       [8.60137373e-01],\n",
       "       [7.93021191e-02],\n",
       "       [7.04078852e-01],\n",
       "       [7.29557697e-01],\n",
       "       [5.84094134e-02],\n",
       "       [8.51799568e-02],\n",
       "       [9.24952277e-01]])"
      ]
     },
     "execution_count": 3,
     "metadata": {},
     "output_type": "execute_result"
    }
   ],
   "source": [
    "X"
   ]
  },
  {
   "cell_type": "code",
   "execution_count": 4,
   "metadata": {},
   "outputs": [],
   "source": [
    "y = 5 + 3 * X + np.random.rand(100, 1)"
   ]
  },
  {
   "cell_type": "code",
   "execution_count": 5,
   "metadata": {},
   "outputs": [
    {
     "data": {
      "text/plain": [
       "<matplotlib.collections.PathCollection at 0x293515ea0b8>"
      ]
     },
     "execution_count": 5,
     "metadata": {},
     "output_type": "execute_result"
    },
    {
     "data": {
      "image/png": "[encoded data removed]",
      "text/plain": [
       "<Figure size 432x288 with 1 Axes>"
      ]
     },
     "metadata": {
      "needs_background": "light"
     },
     "output_type": "display_data"
    }
   ],
   "source": [
    "plt.scatter(X, y)"
   ]
  },
  {
   "cell_type": "code",
   "execution_count": 6,
   "metadata": {},
   "outputs": [],
   "source": [
    "from sklearn.linear_model import LinearRegression"
   ]
  },
  {
   "cell_type": "code",
   "execution_count": 7,
   "metadata": {},
   "outputs": [],
   "source": [
    "lin_reg = LinearRegression().fit(X, y.ravel())"
   ]
  },
  {
   "cell_type": "code",
   "execution_count": 8,
   "metadata": {},
   "outputs": [
    {
     "data": {
      "text/plain": [
       "(100,)"
      ]
     },
     "execution_count": 8,
     "metadata": {},
     "output_type": "execute_result"
    }
   ],
   "source": [
    "y.ravel().shape"
   ]
  },
  {
   "cell_type": "code",
   "execution_count": 9,
   "metadata": {},
   "outputs": [
    {
     "data": {
      "text/plain": [
       "(5.465187204826346, array([3.0568455]))"
      ]
     },
     "execution_count": 9,
     "metadata": {},
     "output_type": "execute_result"
    }
   ],
   "source": [
    "lin_reg.intercept_, lin_reg.coef_"
   ]
  },
  {
   "cell_type": "code",
   "execution_count": 10,
   "metadata": {},
   "outputs": [
    {
     "data": {
      "text/plain": [
       "<matplotlib.collections.PathCollection at 0x29352f22ef0>"
      ]
     },
     "execution_count": 10,
     "metadata": {},
     "output_type": "execute_result"
    },
    {
     "data": {
      "image/png": "[encoded data removed]",
      "text/plain": [
       "<Figure size 432x288 with 1 Axes>"
      ]
     },
     "metadata": {
      "needs_background": "light"
     },
     "output_type": "display_data"
    }
   ],
   "source": [
    "X_new = np.array([[0], [1]])\n",
    "plt.plot(X_new, lin_reg.intercept_ + lin_reg.coef_ * X_new, 'red')\n",
    "plt.scatter(X, y)"
   ]
  },
  {
   "cell_type": "code",
   "execution_count": 11,
   "metadata": {},
   "outputs": [],
   "source": [
    "from sklearn.linear_model import SGDRegressor"
   ]
  },
  {
   "cell_type": "code",
   "execution_count": 12,
   "metadata": {},
   "outputs": [
    {
     "name": "stderr",
     "output_type": "stream",
     "text": [
      "C:\\Users\\cs16503\\Anaconda3\\lib\\site-packages\\sklearn\\linear_model\\stochastic_gradient.py:183: FutureWarning: max_iter and tol parameters have been added in SGDRegressor in 0.19. If max_iter is set but tol is left unset, the default value for tol in 0.19 and 0.20 will be None (which is equivalent to -infinity, so it has no effect) but will change in 0.21 to 1e-3. Specify tol to silence this warning.\n",
      "  FutureWarning)\n"
     ]
    }
   ],
   "source": [
    "sgd_reg = SGDRegressor(max_iter=100).fit(X, y.ravel())"
   ]
  },
  {
   "cell_type": "code",
   "execution_count": 13,
   "metadata": {},
   "outputs": [
    {
     "data": {
      "text/plain": [
       "(array([5.52712811]), array([2.93131646]))"
      ]
     },
     "execution_count": 13,
     "metadata": {},
     "output_type": "execute_result"
    }
   ],
   "source": [
    "sgd_reg.intercept_, sgd_reg.coef_"
   ]
  },
  {
   "cell_type": "code",
   "execution_count": 14,
   "metadata": {},
   "outputs": [
    {
     "name": "stderr",
     "output_type": "stream",
     "text": [
      "C:\\Users\\cs16503\\Anaconda3\\lib\\site-packages\\sklearn\\linear_model\\stochastic_gradient.py:183: FutureWarning: max_iter and tol parameters have been added in SGDRegressor in 0.19. If max_iter is set but tol is left unset, the default value for tol in 0.19 and 0.20 will be None (which is equivalent to -infinity, so it has no effect) but will change in 0.21 to 1e-3. Specify tol to silence this warning.\n",
      "  FutureWarning)\n"
     ]
    }
   ],
   "source": [
    "sgd_reg_00001 = SGDRegressor(eta0=0.0001, max_iter=100).fit(X, y.ravel())"
   ]
  },
  {
   "cell_type": "code",
   "execution_count": 15,
   "metadata": {},
   "outputs": [
    {
     "data": {
      "text/plain": [
       "(array([0.84517008]), array([0.42137325]))"
      ]
     },
     "execution_count": 15,
     "metadata": {},
     "output_type": "execute_result"
    }
   ],
   "source": [
    "sgd_reg_00001.intercept_, sgd_reg_00001.coef_"
   ]
  },
  {
   "cell_type": "code",
   "execution_count": 16,
   "metadata": {},
   "outputs": [
    {
     "data": {
      "text/plain": [
       "<matplotlib.collections.PathCollection at 0x29352fc0e80>"
      ]
     },
     "execution_count": 16,
     "metadata": {},
     "output_type": "execute_result"
    },
    {
     "data": {
      "image/png": "[encoded data removed]",
      "text/plain": [
       "<Figure size 432x288 with 1 Axes>"
      ]
     },
     "metadata": {
      "needs_background": "light"
     },
     "output_type": "display_data"
    }
   ],
   "source": [
    "plt.plot(X_new, sgd_reg_00001.intercept_ + sgd_reg_00001.coef_ * X_new, 'red')\n",
    "plt.scatter(X, y)"
   ]
  },
  {
   "cell_type": "code",
   "execution_count": 17,
   "metadata": {},
   "outputs": [
    {
     "name": "stderr",
     "output_type": "stream",
     "text": [
      "C:\\Users\\cs16503\\Anaconda3\\lib\\site-packages\\sklearn\\linear_model\\stochastic_gradient.py:183: FutureWarning: max_iter and tol parameters have been added in SGDRegressor in 0.19. If max_iter is set but tol is left unset, the default value for tol in 0.19 and 0.20 will be None (which is equivalent to -infinity, so it has no effect) but will change in 0.21 to 1e-3. Specify tol to silence this warning.\n",
      "  FutureWarning)\n"
     ]
    }
   ],
   "source": [
    "sgd_reg_100 = SGDRegressor(eta0=100, max_iter=100).fit(X, y.ravel())"
   ]
  },
  {
   "cell_type": "code",
   "execution_count": 18,
   "metadata": {},
   "outputs": [
    {
     "data": {
      "text/plain": [
       "(array([6.01752592e+12]), array([7.5857807e+12]))"
      ]
     },
     "execution_count": 18,
     "metadata": {},
     "output_type": "execute_result"
    }
   ],
   "source": [
    "sgd_reg_100.intercept_, sgd_reg_100.coef_"
   ]
  },
  {
   "cell_type": "code",
   "execution_count": 19,
   "metadata": {},
   "outputs": [
    {
     "data": {
      "text/plain": [
       "<matplotlib.collections.PathCollection at 0x29353ff0710>"
      ]
     },
     "execution_count": 19,
     "metadata": {},
     "output_type": "execute_result"
    },
    {
     "data": {
      "image/png": "[encoded data removed]",
      "text/plain": [
       "<Figure size 432x288 with 1 Axes>"
      ]
     },
     "metadata": {
      "needs_background": "light"
     },
     "output_type": "display_data"
    }
   ],
   "source": [
    "plt.plot(X_new, sgd_reg_100.intercept_ + sgd_reg_100.coef_ * X_new, 'red')\n",
    "plt.scatter(X, y)"
   ]
  },
  {
   "cell_type": "code",
   "execution_count": null,
   "metadata": {},
   "outputs": [],
   "source": []
  }
 ],
 "metadata": {
  "kernelspec": {
   "display_name": "Python 3",
   "language": "python",
   "name": "python3"
  },
  "language_info": {
   "codemirror_mode": {
    "name": "ipython",
    "version": 3
   },
   "file_extension": ".py",
   "mimetype": "text/x-python",
   "name": "python",
   "nbconvert_exporter": "python",
   "pygments_lexer": "ipython3",
   "version": "3.7.1"
  }
 },
 "nbformat": 4,
 "nbformat_minor": 2
}
