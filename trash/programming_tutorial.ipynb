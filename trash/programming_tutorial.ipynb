{
 "cells": [
  {
   "cell_type": "code",
   "execution_count": 1,
   "metadata": {},
   "outputs": [
    {
     "data": {
      "text/plain": [
       "3"
      ]
     },
     "execution_count": 1,
     "metadata": {},
     "output_type": "execute_result"
    }
   ],
   "source": [
    "1 + 2"
   ]
  },
  {
   "cell_type": "code",
   "execution_count": 2,
   "metadata": {},
   "outputs": [
    {
     "name": "stdout",
     "output_type": "stream",
     "text": [
      "1\n",
      "3\n",
      "5\n"
     ]
    }
   ],
   "source": [
    "for i in [1, 3, 5]:\n",
    "    print(i)"
   ]
  },
  {
   "cell_type": "markdown",
   "metadata": {},
   "source": [
    "# if文の練習"
   ]
  },
  {
   "cell_type": "code",
   "execution_count": 6,
   "metadata": {},
   "outputs": [
    {
     "name": "stdout",
     "output_type": "stream",
     "text": [
      "不合格\n"
     ]
    }
   ],
   "source": [
    "a = 80\n",
    "if a > 100:\n",
    "    print(\"合格\")\n",
    "else:\n",
    "    print(\"不合格\")"
   ]
  },
  {
   "cell_type": "code",
   "execution_count": 7,
   "metadata": {},
   "outputs": [],
   "source": [
    "# これはコメントです"
   ]
  },
  {
   "cell_type": "code",
   "execution_count": 13,
   "metadata": {},
   "outputs": [],
   "source": [
    "import numpy as np"
   ]
  },
  {
   "cell_type": "code",
   "execution_count": 12,
   "metadata": {},
   "outputs": [
    {
     "data": {
      "text/plain": [
       "3"
      ]
     },
     "execution_count": 12,
     "metadata": {},
     "output_type": "execute_result"
    }
   ],
   "source": [
    "np.random.randint(10)"
   ]
  },
  {
   "cell_type": "code",
   "execution_count": 17,
   "metadata": {},
   "outputs": [
    {
     "data": {
      "text/plain": [
       "[[1, 4], [6, 7]]"
      ]
     },
     "execution_count": 17,
     "metadata": {},
     "output_type": "execute_result"
    }
   ],
   "source": [
    "[[1, 4], [6, 7]]"
   ]
  },
  {
   "cell_type": "code",
   "execution_count": 18,
   "metadata": {
    "scrolled": true
   },
   "outputs": [
    {
     "data": {
      "text/plain": [
       "array([[  6,  93,  58,  61,  68],\n",
       "       [ 30,  89,  43,  16,  77],\n",
       "       [ 32,  14,  37,   8,   2],\n",
       "       [ 44,  76,  45,  72,  38],\n",
       "       [ 70,  53,  99,  31,  89],\n",
       "       [ 62,  28,  59,  61,  48],\n",
       "       [ 33,  93,  65,  95,  65],\n",
       "       [ 90,  19,  92,  62,  86],\n",
       "       [ 73,  88,   8,  14,  93],\n",
       "       [ 72,  20,  30,  43,  53],\n",
       "       [ 82,  83,  30,   6,  63],\n",
       "       [ 45,  42,  53,  46,   1],\n",
       "       [ 77,  15,  90,   7,  35],\n",
       "       [ 89,  47,  79,  14,  67],\n",
       "       [ 63,  42,  63,  60,  62],\n",
       "       [ 18,  43,  84,  77,  23],\n",
       "       [ 25,  90,  32,  21,   2],\n",
       "       [ 61,  24,  32,   9,  11],\n",
       "       [ 92,  54,  69,   2,  22],\n",
       "       [ 35,   3,  40,  28,  90],\n",
       "       [ 24,  11,  30,  82,  22],\n",
       "       [  9,  28,  42,  78,  57],\n",
       "       [ 82,  77,  71,  58,  21],\n",
       "       [ 40,  36,  59,  19,  93],\n",
       "       [ 75,  33,  33,  13,  52],\n",
       "       [ 50,  73,  67,  96,  48],\n",
       "       [ 84,   5,  33,  87,   5],\n",
       "       [ 40,  92,  37,   5,  44],\n",
       "       [ 48,  74,  84,  79,  70],\n",
       "       [ 67,  44,  43,   8,  97],\n",
       "       [ 14,   0,  68,   5,   3],\n",
       "       [ 36,  69,  99,  80,  49],\n",
       "       [ 28,  13,  19,  27,  40],\n",
       "       [ 96,  63,   7,  46,   6],\n",
       "       [ 77,  32,  37,  92,  82],\n",
       "       [ 20,  39,  21,  44,  46],\n",
       "       [ 42,  70,  92,  30,  93],\n",
       "       [ 99,  62,  36,  89,  15],\n",
       "       [  6,  87,  58,  61,   1],\n",
       "       [ 32,  65,  61,  46,  48],\n",
       "       [ 87,   7,  65,  82,  16],\n",
       "       [ 78,  11,  39,  84,  51],\n",
       "       [ 40,  48,  15,  47,  53],\n",
       "       [ 54,  70,  97,  96,  42],\n",
       "       [ 13,  71,  11,  75,  86],\n",
       "       [  6,  35,  42,  83,  88],\n",
       "       [ 35,  66,  40,  17,  85],\n",
       "       [ 84,  57,  87,   4,  95],\n",
       "       [ 57,  77,   6,   6,  31],\n",
       "       [ 10,  29,  82,  48,  51],\n",
       "       [ 71,  49,  43,  13,  20],\n",
       "       [ 85,   8,  44,  42,  14],\n",
       "       [  3,  51,  15,  40,  49],\n",
       "       [ 82,  68,  95,  86,  11],\n",
       "       [ 95,  49,  48,  65,   9],\n",
       "       [ 90,  17,  59,  77, 100],\n",
       "       [ 40,  96,  54,  98,   5],\n",
       "       [ 91,  74,   1,  10,  80],\n",
       "       [ 97,   1,  11,  34,  89],\n",
       "       [ 17,   6,  69,  32,  54],\n",
       "       [ 70,  48,  20,   3,  94],\n",
       "       [ 69,  40,  99,  67,  69],\n",
       "       [  9,  30,  73,  40,  90],\n",
       "       [ 71,  82,  17,  61,  47],\n",
       "       [ 87,  91,  91,  34,  82],\n",
       "       [ 37,  90,  95,  42,  82],\n",
       "       [ 74,  17,   1,  47,  50],\n",
       "       [  6,  57,  91,  55,  59],\n",
       "       [ 12,  65,  77,   1,   8],\n",
       "       [ 91,   3,  88,  90,  26],\n",
       "       [ 56,  96,  42,   7,  31],\n",
       "       [ 45,  68,   1,  55,  13],\n",
       "       [ 84,  89,  28,  28,   0],\n",
       "       [ 29,  14,  25,   7,  53],\n",
       "       [ 81,  45,  54,  71,  27],\n",
       "       [ 51,  55,  52,  53,  55],\n",
       "       [ 60,  95,  28,  89,  66],\n",
       "       [ 11,  26,  93,  14,  84],\n",
       "       [ 90,  46,  79,  32,  77],\n",
       "       [ 32,  85,  32,  22,  64],\n",
       "       [ 71,  11,  93,  61,  42],\n",
       "       [ 64,  31,  34,  41,   5],\n",
       "       [ 80,  19,  67,  50,  10],\n",
       "       [ 14,  33,  39,  66,   9],\n",
       "       [ 26,  32,  66,   2,  95],\n",
       "       [ 37,  59,  67,  83,  20],\n",
       "       [  6,  12,   2,  52,  29],\n",
       "       [ 48,  43,  17,  27,  54],\n",
       "       [ 19,  66,   5,  78,  52],\n",
       "       [ 93,  21,  90,  12,  36],\n",
       "       [  5,   6,  40,  61,  89],\n",
       "       [ 49,  23,   1,  84,  63],\n",
       "       [ 73,  91,  67,  85,  54],\n",
       "       [ 10,  62,  19,  46,  80],\n",
       "       [ 63,   9,  25,  47,  38],\n",
       "       [ 49,  67,  96,   6,  19],\n",
       "       [ 57,  42,  96,  39,  36],\n",
       "       [ 43,  58,  61,  52,  61],\n",
       "       [ 15,  55,   6,  93,  40],\n",
       "       [ 59,  19,  49,  83,  16]])"
      ]
     },
     "execution_count": 18,
     "metadata": {},
     "output_type": "execute_result"
    }
   ],
   "source": [
    "np.random.randint(0, 101, (100, 5))"
   ]
  },
  {
   "cell_type": "code",
   "execution_count": 25,
   "metadata": {},
   "outputs": [
    {
     "data": {
      "text/html": [
       "<div>\n",
       "<style scoped>\n",
       "    .dataframe tbody tr th:only-of-type {\n",
       "        vertical-align: middle;\n",
       "    }\n",
       "\n",
       "    .dataframe tbody tr th {\n",
       "        vertical-align: top;\n",
       "    }\n",
       "\n",
       "    .dataframe thead th {\n",
       "        text-align: right;\n",
       "    }\n",
       "</style>\n",
       "<table border=\"1\" class=\"dataframe\">\n",
       "  <thead>\n",
       "    <tr style=\"text-align: right;\">\n",
       "      <th></th>\n",
       "      <th>Japanese</th>\n",
       "      <th>Mathematics</th>\n",
       "      <th>English</th>\n",
       "      <th>Science</th>\n",
       "      <th>Civics</th>\n",
       "    </tr>\n",
       "  </thead>\n",
       "  <tbody>\n",
       "    <tr>\n",
       "      <th>0</th>\n",
       "      <td>6</td>\n",
       "      <td>42</td>\n",
       "      <td>4</td>\n",
       "      <td>60</td>\n",
       "      <td>80</td>\n",
       "    </tr>\n",
       "    <tr>\n",
       "      <th>1</th>\n",
       "      <td>51</td>\n",
       "      <td>1</td>\n",
       "      <td>49</td>\n",
       "      <td>24</td>\n",
       "      <td>82</td>\n",
       "    </tr>\n",
       "    <tr>\n",
       "      <th>2</th>\n",
       "      <td>6</td>\n",
       "      <td>4</td>\n",
       "      <td>71</td>\n",
       "      <td>6</td>\n",
       "      <td>64</td>\n",
       "    </tr>\n",
       "    <tr>\n",
       "      <th>3</th>\n",
       "      <td>14</td>\n",
       "      <td>72</td>\n",
       "      <td>63</td>\n",
       "      <td>86</td>\n",
       "      <td>89</td>\n",
       "    </tr>\n",
       "    <tr>\n",
       "      <th>4</th>\n",
       "      <td>40</td>\n",
       "      <td>97</td>\n",
       "      <td>63</td>\n",
       "      <td>28</td>\n",
       "      <td>87</td>\n",
       "    </tr>\n",
       "  </tbody>\n",
       "</table>\n",
       "</div>"
      ],
      "text/plain": [
       "   Japanese  Mathematics  English  Science  Civics\n",
       "0         6           42        4       60      80\n",
       "1        51            1       49       24      82\n",
       "2         6            4       71        6      64\n",
       "3        14           72       63       86      89\n",
       "4        40           97       63       28      87"
      ]
     },
     "execution_count": 25,
     "metadata": {},
     "output_type": "execute_result"
    }
   ],
   "source": [
    "import pandas as pd\n",
    "\n",
    "df = pd.DataFrame(data=np.random.randint(0, 101, (100, 5)), columns=['Japanese', 'Mathematics', 'English', 'Science', 'Civics'])\n",
    "df.head()"
   ]
  },
  {
   "cell_type": "code",
   "execution_count": 28,
   "metadata": {},
   "outputs": [],
   "source": [
    "def hoge(str, age):\n",
    "    print(str, age)"
   ]
  },
  {
   "cell_type": "code",
   "execution_count": 32,
   "metadata": {},
   "outputs": [
    {
     "name": "stdout",
     "output_type": "stream",
     "text": [
      "takata 21\n"
     ]
    }
   ],
   "source": [
    "hoge('takata', 21)"
   ]
  },
  {
   "cell_type": "code",
   "execution_count": null,
   "metadata": {},
   "outputs": [],
   "source": []
  }
 ],
 "metadata": {
  "kernelspec": {
   "display_name": "Python 3",
   "language": "python",
   "name": "python3"
  },
  "language_info": {
   "codemirror_mode": {
    "name": "ipython",
    "version": 3
   },
   "file_extension": ".py",
   "mimetype": "text/x-python",
   "name": "python",
   "nbconvert_exporter": "python",
   "pygments_lexer": "ipython3",
   "version": "3.7.1"
  }
 },
 "nbformat": 4,
 "nbformat_minor": 2
}
