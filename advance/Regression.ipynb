{
 "cells": [
  {
   "cell_type": "code",
   "execution_count": 1,
   "metadata": {},
   "outputs": [],
   "source": [
    "import numpy as np\n",
    "import pandas as pd\n",
    "import matplotlib.pyplot as plt\n",
    "%matplotlib inline\n",
    "plt.style.use('ggplot')\n",
    "import seaborn as sns"
   ]
  },
  {
   "cell_type": "markdown",
   "metadata": {},
   "source": [
    "### データ読み込み"
   ]
  },
  {
   "cell_type": "code",
   "execution_count": 2,
   "metadata": {},
   "outputs": [
    {
     "data": {
      "text/html": [
       "<div>\n",
       "<style scoped>\n",
       "    .dataframe tbody tr th:only-of-type {\n",
       "        vertical-align: middle;\n",
       "    }\n",
       "\n",
       "    .dataframe tbody tr th {\n",
       "        vertical-align: top;\n",
       "    }\n",
       "\n",
       "    .dataframe thead th {\n",
       "        text-align: right;\n",
       "    }\n",
       "</style>\n",
       "<table border=\"1\" class=\"dataframe\">\n",
       "  <thead>\n",
       "    <tr style=\"text-align: right;\">\n",
       "      <th></th>\n",
       "      <th>key</th>\n",
       "      <th>fare_amount</th>\n",
       "      <th>pickup_datetime</th>\n",
       "      <th>pickup_longitude</th>\n",
       "      <th>pickup_latitude</th>\n",
       "      <th>dropoff_longitude</th>\n",
       "      <th>dropoff_latitude</th>\n",
       "      <th>passenger_count</th>\n",
       "    </tr>\n",
       "  </thead>\n",
       "  <tbody>\n",
       "    <tr>\n",
       "      <th>0</th>\n",
       "      <td>2009-06-15 17:26:21.0000001</td>\n",
       "      <td>4.5</td>\n",
       "      <td>2009-06-15 17:26:21 UTC</td>\n",
       "      <td>-73.844311</td>\n",
       "      <td>40.721319</td>\n",
       "      <td>-73.841610</td>\n",
       "      <td>40.712278</td>\n",
       "      <td>1</td>\n",
       "    </tr>\n",
       "    <tr>\n",
       "      <th>1</th>\n",
       "      <td>2010-01-05 16:52:16.0000002</td>\n",
       "      <td>16.9</td>\n",
       "      <td>2010-01-05 16:52:16 UTC</td>\n",
       "      <td>-74.016048</td>\n",
       "      <td>40.711303</td>\n",
       "      <td>-73.979268</td>\n",
       "      <td>40.782004</td>\n",
       "      <td>1</td>\n",
       "    </tr>\n",
       "    <tr>\n",
       "      <th>2</th>\n",
       "      <td>2011-08-18 00:35:00.00000049</td>\n",
       "      <td>5.7</td>\n",
       "      <td>2011-08-18 00:35:00 UTC</td>\n",
       "      <td>-73.982738</td>\n",
       "      <td>40.761270</td>\n",
       "      <td>-73.991242</td>\n",
       "      <td>40.750562</td>\n",
       "      <td>2</td>\n",
       "    </tr>\n",
       "    <tr>\n",
       "      <th>3</th>\n",
       "      <td>2012-04-21 04:30:42.0000001</td>\n",
       "      <td>7.7</td>\n",
       "      <td>2012-04-21 04:30:42 UTC</td>\n",
       "      <td>-73.987130</td>\n",
       "      <td>40.733143</td>\n",
       "      <td>-73.991567</td>\n",
       "      <td>40.758092</td>\n",
       "      <td>1</td>\n",
       "    </tr>\n",
       "    <tr>\n",
       "      <th>4</th>\n",
       "      <td>2010-03-09 07:51:00.000000135</td>\n",
       "      <td>5.3</td>\n",
       "      <td>2010-03-09 07:51:00 UTC</td>\n",
       "      <td>-73.968095</td>\n",
       "      <td>40.768008</td>\n",
       "      <td>-73.956655</td>\n",
       "      <td>40.783762</td>\n",
       "      <td>1</td>\n",
       "    </tr>\n",
       "  </tbody>\n",
       "</table>\n",
       "</div>"
      ],
      "text/plain": [
       "                             key  fare_amount          pickup_datetime  \\\n",
       "0    2009-06-15 17:26:21.0000001          4.5  2009-06-15 17:26:21 UTC   \n",
       "1    2010-01-05 16:52:16.0000002         16.9  2010-01-05 16:52:16 UTC   \n",
       "2   2011-08-18 00:35:00.00000049          5.7  2011-08-18 00:35:00 UTC   \n",
       "3    2012-04-21 04:30:42.0000001          7.7  2012-04-21 04:30:42 UTC   \n",
       "4  2010-03-09 07:51:00.000000135          5.3  2010-03-09 07:51:00 UTC   \n",
       "\n",
       "   pickup_longitude  pickup_latitude  dropoff_longitude  dropoff_latitude  \\\n",
       "0        -73.844311        40.721319         -73.841610         40.712278   \n",
       "1        -74.016048        40.711303         -73.979268         40.782004   \n",
       "2        -73.982738        40.761270         -73.991242         40.750562   \n",
       "3        -73.987130        40.733143         -73.991567         40.758092   \n",
       "4        -73.968095        40.768008         -73.956655         40.783762   \n",
       "\n",
       "   passenger_count  \n",
       "0                1  \n",
       "1                1  \n",
       "2                2  \n",
       "3                1  \n",
       "4                1  "
      ]
     },
     "execution_count": 2,
     "metadata": {},
     "output_type": "execute_result"
    }
   ],
   "source": [
    "df = pd.read_csv('train.csv', nrows=550000)\n",
    "df.head()"
   ]
  },
  {
   "cell_type": "code",
   "execution_count": 3,
   "metadata": {},
   "outputs": [
    {
     "name": "stdout",
     "output_type": "stream",
     "text": [
      "<class 'pandas.core.frame.DataFrame'>\n",
      "RangeIndex: 550000 entries, 0 to 549999\n",
      "Data columns (total 8 columns):\n",
      "key                  550000 non-null object\n",
      "fare_amount          550000 non-null float64\n",
      "pickup_datetime      550000 non-null object\n",
      "pickup_longitude     550000 non-null float64\n",
      "pickup_latitude      550000 non-null float64\n",
      "dropoff_longitude    549994 non-null float64\n",
      "dropoff_latitude     549994 non-null float64\n",
      "passenger_count      550000 non-null int64\n",
      "dtypes: float64(5), int64(1), object(2)\n",
      "memory usage: 33.6+ MB\n"
     ]
    }
   ],
   "source": [
    "df.info()"
   ]
  },
  {
   "cell_type": "code",
   "execution_count": 4,
   "metadata": {},
   "outputs": [
    {
     "data": {
      "text/html": [
       "<div>\n",
       "<style scoped>\n",
       "    .dataframe tbody tr th:only-of-type {\n",
       "        vertical-align: middle;\n",
       "    }\n",
       "\n",
       "    .dataframe tbody tr th {\n",
       "        vertical-align: top;\n",
       "    }\n",
       "\n",
       "    .dataframe thead th {\n",
       "        text-align: right;\n",
       "    }\n",
       "</style>\n",
       "<table border=\"1\" class=\"dataframe\">\n",
       "  <thead>\n",
       "    <tr style=\"text-align: right;\">\n",
       "      <th></th>\n",
       "      <th>fare_amount</th>\n",
       "      <th>pickup_longitude</th>\n",
       "      <th>pickup_latitude</th>\n",
       "      <th>dropoff_longitude</th>\n",
       "      <th>dropoff_latitude</th>\n",
       "      <th>passenger_count</th>\n",
       "    </tr>\n",
       "  </thead>\n",
       "  <tbody>\n",
       "    <tr>\n",
       "      <th>count</th>\n",
       "      <td>550000.000000</td>\n",
       "      <td>550000.000000</td>\n",
       "      <td>550000.000000</td>\n",
       "      <td>549994.000000</td>\n",
       "      <td>549994.000000</td>\n",
       "      <td>550000.000000</td>\n",
       "    </tr>\n",
       "    <tr>\n",
       "      <th>mean</th>\n",
       "      <td>11.348953</td>\n",
       "      <td>-72.527701</td>\n",
       "      <td>39.922421</td>\n",
       "      <td>-72.524337</td>\n",
       "      <td>39.917940</td>\n",
       "      <td>1.683707</td>\n",
       "    </tr>\n",
       "    <tr>\n",
       "      <th>std</th>\n",
       "      <td>9.883326</td>\n",
       "      <td>12.545991</td>\n",
       "      <td>7.950921</td>\n",
       "      <td>11.692485</td>\n",
       "      <td>7.297479</td>\n",
       "      <td>1.307607</td>\n",
       "    </tr>\n",
       "    <tr>\n",
       "      <th>min</th>\n",
       "      <td>-44.900000</td>\n",
       "      <td>-3377.680935</td>\n",
       "      <td>-3116.285383</td>\n",
       "      <td>-3383.296608</td>\n",
       "      <td>-2559.748913</td>\n",
       "      <td>0.000000</td>\n",
       "    </tr>\n",
       "    <tr>\n",
       "      <th>25%</th>\n",
       "      <td>6.000000</td>\n",
       "      <td>-73.992043</td>\n",
       "      <td>40.734942</td>\n",
       "      <td>-73.991390</td>\n",
       "      <td>40.734060</td>\n",
       "      <td>1.000000</td>\n",
       "    </tr>\n",
       "    <tr>\n",
       "      <th>50%</th>\n",
       "      <td>8.500000</td>\n",
       "      <td>-73.981790</td>\n",
       "      <td>40.752681</td>\n",
       "      <td>-73.980141</td>\n",
       "      <td>40.753135</td>\n",
       "      <td>1.000000</td>\n",
       "    </tr>\n",
       "    <tr>\n",
       "      <th>75%</th>\n",
       "      <td>12.500000</td>\n",
       "      <td>-73.967108</td>\n",
       "      <td>40.767092</td>\n",
       "      <td>-73.963602</td>\n",
       "      <td>40.768124</td>\n",
       "      <td>2.000000</td>\n",
       "    </tr>\n",
       "    <tr>\n",
       "      <th>max</th>\n",
       "      <td>500.000000</td>\n",
       "      <td>2140.601160</td>\n",
       "      <td>1703.092772</td>\n",
       "      <td>40.851027</td>\n",
       "      <td>404.616667</td>\n",
       "      <td>6.000000</td>\n",
       "    </tr>\n",
       "  </tbody>\n",
       "</table>\n",
       "</div>"
      ],
      "text/plain": [
       "         fare_amount  pickup_longitude  pickup_latitude  dropoff_longitude  \\\n",
       "count  550000.000000     550000.000000    550000.000000      549994.000000   \n",
       "mean       11.348953        -72.527701        39.922421         -72.524337   \n",
       "std         9.883326         12.545991         7.950921          11.692485   \n",
       "min       -44.900000      -3377.680935     -3116.285383       -3383.296608   \n",
       "25%         6.000000        -73.992043        40.734942         -73.991390   \n",
       "50%         8.500000        -73.981790        40.752681         -73.980141   \n",
       "75%        12.500000        -73.967108        40.767092         -73.963602   \n",
       "max       500.000000       2140.601160      1703.092772          40.851027   \n",
       "\n",
       "       dropoff_latitude  passenger_count  \n",
       "count     549994.000000    550000.000000  \n",
       "mean          39.917940         1.683707  \n",
       "std            7.297479         1.307607  \n",
       "min        -2559.748913         0.000000  \n",
       "25%           40.734060         1.000000  \n",
       "50%           40.753135         1.000000  \n",
       "75%           40.768124         2.000000  \n",
       "max          404.616667         6.000000  "
      ]
     },
     "execution_count": 4,
     "metadata": {},
     "output_type": "execute_result"
    }
   ],
   "source": [
    "df.describe()"
   ]
  },
  {
   "cell_type": "markdown",
   "metadata": {},
   "source": [
    "### 欠損値の処理"
   ]
  },
  {
   "cell_type": "code",
   "execution_count": 5,
   "metadata": {},
   "outputs": [
    {
     "data": {
      "text/plain": [
       "key                  0\n",
       "fare_amount          0\n",
       "pickup_datetime      0\n",
       "pickup_longitude     0\n",
       "pickup_latitude      0\n",
       "dropoff_longitude    6\n",
       "dropoff_latitude     6\n",
       "passenger_count      0\n",
       "dtype: int64"
      ]
     },
     "execution_count": 5,
     "metadata": {},
     "output_type": "execute_result"
    }
   ],
   "source": [
    "df.isnull().sum()"
   ]
  },
  {
   "cell_type": "code",
   "execution_count": 6,
   "metadata": {},
   "outputs": [
    {
     "data": {
      "text/plain": [
       "(549994, 8)"
      ]
     },
     "execution_count": 6,
     "metadata": {},
     "output_type": "execute_result"
    }
   ],
   "source": [
    "df = df.dropna()\n",
    "df.shape"
   ]
  },
  {
   "cell_type": "markdown",
   "metadata": {},
   "source": [
    "### エラーデータのクリーン"
   ]
  },
  {
   "cell_type": "code",
   "execution_count": 7,
   "metadata": {},
   "outputs": [
    {
     "data": {
      "text/plain": [
       "(549954, 8)"
      ]
     },
     "execution_count": 7,
     "metadata": {},
     "output_type": "execute_result"
    }
   ],
   "source": [
    "df = df[df['fare_amount'] > 0]\n",
    "df.shape"
   ]
  },
  {
   "cell_type": "markdown",
   "metadata": {},
   "source": [
    "### 外れ値の処理"
   ]
  },
  {
   "cell_type": "markdown",
   "metadata": {},
   "source": [
    "ヒストグラムを用いて外れ値を確認．"
   ]
  },
  {
   "cell_type": "code",
   "execution_count": 8,
   "metadata": {},
   "outputs": [
    {
     "data": {
      "image/png": "[encoded data removed]",
      "text/plain": [
       "<Figure size 864x576 with 1 Axes>"
      ]
     },
     "metadata": {
      "needs_background": "light"
     },
     "output_type": "display_data"
    }
   ],
   "source": [
    "plt.figure(figsize=(12, 8))\n",
    "plt.hist(df['fare_amount'], bins=100)\n",
    "plt.show()"
   ]
  },
  {
   "cell_type": "markdown",
   "metadata": {},
   "source": [
    "実験的に100ドル以下に絞ってみる．"
   ]
  },
  {
   "cell_type": "code",
   "execution_count": 9,
   "metadata": {},
   "outputs": [
    {
     "data": {
      "image/png": "[encoded data removed]",
      "text/plain": [
       "<Figure size 864x576 with 1 Axes>"
      ]
     },
     "metadata": {
      "needs_background": "light"
     },
     "output_type": "display_data"
    }
   ],
   "source": [
    "df = df[df['fare_amount'] < 100]\n",
    "plt.figure(figsize=(12, 8))\n",
    "plt.hist(df['fare_amount'], bins=100)\n",
    "plt.show()"
   ]
  },
  {
   "cell_type": "markdown",
   "metadata": {},
   "source": [
    "四分位数を用いて外れ値を除外．"
   ]
  },
  {
   "cell_type": "code",
   "execution_count": 10,
   "metadata": {},
   "outputs": [],
   "source": [
    "def outlier_iqr(df, columns=None):\n",
    "    if columns == None:\n",
    "        columns = df.columns\n",
    "    \n",
    "    for col in columns:\n",
    "        q1 = df[col].describe()['25%']\n",
    "        q3 = df[col].describe()['75%']\n",
    "        iqr = q3 - q1\n",
    "        \n",
    "        outlier_min = q1 - iqr * 1.5\n",
    "        outlier_max = q3 + iqr * 1.5\n",
    "        \n",
    "        df = df[(df[col] >= outlier_min) & (df[col] <= outlier_max)]\n",
    "    \n",
    "    return df"
   ]
  },
  {
   "cell_type": "code",
   "execution_count": 11,
   "metadata": {},
   "outputs": [
    {
     "name": "stdout",
     "output_type": "stream",
     "text": [
      "before (549707, 8)\n",
      "after (502410, 8)\n"
     ]
    }
   ],
   "source": [
    "print('before', df.shape)\n",
    "df = outlier_iqr(df, columns=['fare_amount'])\n",
    "print('after', df.shape)"
   ]
  },
  {
   "cell_type": "code",
   "execution_count": 12,
   "metadata": {},
   "outputs": [
    {
     "data": {
      "image/png": "[encoded data removed]",
      "text/plain": [
       "<Figure size 864x576 with 1 Axes>"
      ]
     },
     "metadata": {
      "needs_background": "light"
     },
     "output_type": "display_data"
    }
   ],
   "source": [
    "plt.figure(figsize=(12, 8))\n",
    "plt.hist(df['fare_amount'], bins=50)\n",
    "plt.show()"
   ]
  },
  {
   "cell_type": "markdown",
   "metadata": {},
   "source": [
    "緯度・経度の外れ値を除外．"
   ]
  },
  {
   "cell_type": "code",
   "execution_count": 13,
   "metadata": {},
   "outputs": [
    {
     "name": "stdout",
     "output_type": "stream",
     "text": [
      "before (502410, 8)\n",
      "after (492133, 8)\n"
     ]
    }
   ],
   "source": [
    "print('before', df.shape)\n",
    "df = df[(df['pickup_longitude'] > -75) & (df['pickup_longitude'] < -73)]\n",
    "df = df[(df['pickup_latitude'] > 40) & (df['pickup_latitude'] < 42)]\n",
    "df = df[(df['dropoff_longitude'] > -75) & (df['dropoff_longitude'] < -73)]\n",
    "df = df[(df['dropoff_latitude'] > 40) & (df['dropoff_latitude'] < 42)]\n",
    "print('after', df.shape)"
   ]
  },
  {
   "cell_type": "markdown",
   "metadata": {},
   "source": [
    "乗客数の外れ値を除外．"
   ]
  },
  {
   "cell_type": "code",
   "execution_count": 14,
   "metadata": {},
   "outputs": [
    {
     "data": {
      "text/plain": [
       "1    341337\n",
       "2     72056\n",
       "5     34752\n",
       "3     21456\n",
       "4     10411\n",
       "6     10253\n",
       "0      1868\n",
       "Name: passenger_count, dtype: int64"
      ]
     },
     "execution_count": 14,
     "metadata": {},
     "output_type": "execute_result"
    }
   ],
   "source": [
    "df['passenger_count'].value_counts()"
   ]
  },
  {
   "cell_type": "code",
   "execution_count": 15,
   "metadata": {},
   "outputs": [
    {
     "name": "stdout",
     "output_type": "stream",
     "text": [
      "before (492133, 8)\n",
      "after (490265, 8)\n"
     ]
    }
   ],
   "source": [
    "print('before', df.shape)\n",
    "df = df[df['passenger_count'] > 0]\n",
    "print('after', df.shape)"
   ]
  },
  {
   "cell_type": "markdown",
   "metadata": {},
   "source": [
    "常識的な統計値になったかどうか確認．"
   ]
  },
  {
   "cell_type": "code",
   "execution_count": 16,
   "metadata": {},
   "outputs": [
    {
     "data": {
      "text/html": [
       "<div>\n",
       "<style scoped>\n",
       "    .dataframe tbody tr th:only-of-type {\n",
       "        vertical-align: middle;\n",
       "    }\n",
       "\n",
       "    .dataframe tbody tr th {\n",
       "        vertical-align: top;\n",
       "    }\n",
       "\n",
       "    .dataframe thead th {\n",
       "        text-align: right;\n",
       "    }\n",
       "</style>\n",
       "<table border=\"1\" class=\"dataframe\">\n",
       "  <thead>\n",
       "    <tr style=\"text-align: right;\">\n",
       "      <th></th>\n",
       "      <th>fare_amount</th>\n",
       "      <th>pickup_longitude</th>\n",
       "      <th>pickup_latitude</th>\n",
       "      <th>dropoff_longitude</th>\n",
       "      <th>dropoff_latitude</th>\n",
       "      <th>passenger_count</th>\n",
       "    </tr>\n",
       "  </thead>\n",
       "  <tbody>\n",
       "    <tr>\n",
       "      <th>count</th>\n",
       "      <td>490265.000000</td>\n",
       "      <td>490265.000000</td>\n",
       "      <td>490265.000000</td>\n",
       "      <td>490265.000000</td>\n",
       "      <td>490265.000000</td>\n",
       "      <td>490265.000000</td>\n",
       "    </tr>\n",
       "    <tr>\n",
       "      <th>mean</th>\n",
       "      <td>8.933894</td>\n",
       "      <td>-73.979709</td>\n",
       "      <td>40.752227</td>\n",
       "      <td>-73.978072</td>\n",
       "      <td>40.752539</td>\n",
       "      <td>1.686310</td>\n",
       "    </tr>\n",
       "    <tr>\n",
       "      <th>std</th>\n",
       "      <td>4.139031</td>\n",
       "      <td>0.028164</td>\n",
       "      <td>0.027131</td>\n",
       "      <td>0.028387</td>\n",
       "      <td>0.028941</td>\n",
       "      <td>1.303497</td>\n",
       "    </tr>\n",
       "    <tr>\n",
       "      <th>min</th>\n",
       "      <td>0.010000</td>\n",
       "      <td>-74.968142</td>\n",
       "      <td>40.052722</td>\n",
       "      <td>-74.964263</td>\n",
       "      <td>40.041180</td>\n",
       "      <td>1.000000</td>\n",
       "    </tr>\n",
       "    <tr>\n",
       "      <th>25%</th>\n",
       "      <td>5.700000</td>\n",
       "      <td>-73.992532</td>\n",
       "      <td>40.737282</td>\n",
       "      <td>-73.991863</td>\n",
       "      <td>40.737189</td>\n",
       "      <td>1.000000</td>\n",
       "    </tr>\n",
       "    <tr>\n",
       "      <th>50%</th>\n",
       "      <td>8.000000</td>\n",
       "      <td>-73.982429</td>\n",
       "      <td>40.753330</td>\n",
       "      <td>-73.981329</td>\n",
       "      <td>40.753990</td>\n",
       "      <td>1.000000</td>\n",
       "    </tr>\n",
       "    <tr>\n",
       "      <th>75%</th>\n",
       "      <td>11.000000</td>\n",
       "      <td>-73.970177</td>\n",
       "      <td>40.766867</td>\n",
       "      <td>-73.967958</td>\n",
       "      <td>40.767942</td>\n",
       "      <td>2.000000</td>\n",
       "    </tr>\n",
       "    <tr>\n",
       "      <th>max</th>\n",
       "      <td>22.250000</td>\n",
       "      <td>-73.036247</td>\n",
       "      <td>41.800252</td>\n",
       "      <td>-73.029770</td>\n",
       "      <td>41.923820</td>\n",
       "      <td>6.000000</td>\n",
       "    </tr>\n",
       "  </tbody>\n",
       "</table>\n",
       "</div>"
      ],
      "text/plain": [
       "         fare_amount  pickup_longitude  pickup_latitude  dropoff_longitude  \\\n",
       "count  490265.000000     490265.000000    490265.000000      490265.000000   \n",
       "mean        8.933894        -73.979709        40.752227         -73.978072   \n",
       "std         4.139031          0.028164         0.027131           0.028387   \n",
       "min         0.010000        -74.968142        40.052722         -74.964263   \n",
       "25%         5.700000        -73.992532        40.737282         -73.991863   \n",
       "50%         8.000000        -73.982429        40.753330         -73.981329   \n",
       "75%        11.000000        -73.970177        40.766867         -73.967958   \n",
       "max        22.250000        -73.036247        41.800252         -73.029770   \n",
       "\n",
       "       dropoff_latitude  passenger_count  \n",
       "count     490265.000000    490265.000000  \n",
       "mean          40.752539         1.686310  \n",
       "std            0.028941         1.303497  \n",
       "min           40.041180         1.000000  \n",
       "25%           40.737189         1.000000  \n",
       "50%           40.753990         1.000000  \n",
       "75%           40.767942         2.000000  \n",
       "max           41.923820         6.000000  "
      ]
     },
     "execution_count": 16,
     "metadata": {},
     "output_type": "execute_result"
    }
   ],
   "source": [
    "df.describe()"
   ]
  },
  {
   "cell_type": "markdown",
   "metadata": {},
   "source": [
    "### データを追加"
   ]
  },
  {
   "cell_type": "code",
   "execution_count": 17,
   "metadata": {},
   "outputs": [],
   "source": [
    "def calculation_distance(x1, y1, x2, y2):\n",
    "    R = 6371\n",
    "    _x1, _y1, _x2, _y2 = map(np.radians, [x1, y1, x2, y2])\n",
    "    \n",
    "    delta_x = _x2 - _x1\n",
    "    delta_y = _y2 - _y1\n",
    "    \n",
    "    a = np.sin(delta_y / 2.0) ** 2 + np.cos(_y1) * np.cos(_y2) * np.sin(delta_x / 2.0) ** 2\n",
    "    \n",
    "    return 2 * R * np.arcsin(np.sqrt(a))\n",
    "\n",
    "def calculation_azimuth(x1, y1, x2, y2):\n",
    "    _x1, _y1, _x2, _y2 = map(np.radians, [x1, y1, x2, y2])\n",
    "    \n",
    "    delta_x = _x2 - _x1\n",
    "    _y = np.sin(delta_x)\n",
    "    _x = np.cos(_y1) * np.tan(_y2) - np.sin(_y1) * np.cos(delta_x)\n",
    "    \n",
    "    psi = np.rad2deg(np.arctan2(_y, _x))\n",
    "    \n",
    "    return np.where(psi < 0, 360 + psi, psi)"
   ]
  },
  {
   "cell_type": "code",
   "execution_count": 18,
   "metadata": {},
   "outputs": [
    {
     "data": {
      "text/html": [
       "<div>\n",
       "<style scoped>\n",
       "    .dataframe tbody tr th:only-of-type {\n",
       "        vertical-align: middle;\n",
       "    }\n",
       "\n",
       "    .dataframe tbody tr th {\n",
       "        vertical-align: top;\n",
       "    }\n",
       "\n",
       "    .dataframe thead th {\n",
       "        text-align: right;\n",
       "    }\n",
       "</style>\n",
       "<table border=\"1\" class=\"dataframe\">\n",
       "  <thead>\n",
       "    <tr style=\"text-align: right;\">\n",
       "      <th></th>\n",
       "      <th>key</th>\n",
       "      <th>fare_amount</th>\n",
       "      <th>pickup_datetime</th>\n",
       "      <th>pickup_longitude</th>\n",
       "      <th>pickup_latitude</th>\n",
       "      <th>dropoff_longitude</th>\n",
       "      <th>dropoff_latitude</th>\n",
       "      <th>passenger_count</th>\n",
       "      <th>distance</th>\n",
       "    </tr>\n",
       "  </thead>\n",
       "  <tbody>\n",
       "    <tr>\n",
       "      <th>0</th>\n",
       "      <td>2009-06-15 17:26:21.0000001</td>\n",
       "      <td>4.5</td>\n",
       "      <td>2009-06-15 17:26:21 UTC</td>\n",
       "      <td>-73.844311</td>\n",
       "      <td>40.721319</td>\n",
       "      <td>-73.841610</td>\n",
       "      <td>40.712278</td>\n",
       "      <td>1</td>\n",
       "      <td>1.030764</td>\n",
       "    </tr>\n",
       "    <tr>\n",
       "      <th>1</th>\n",
       "      <td>2010-01-05 16:52:16.0000002</td>\n",
       "      <td>16.9</td>\n",
       "      <td>2010-01-05 16:52:16 UTC</td>\n",
       "      <td>-74.016048</td>\n",
       "      <td>40.711303</td>\n",
       "      <td>-73.979268</td>\n",
       "      <td>40.782004</td>\n",
       "      <td>1</td>\n",
       "      <td>8.450134</td>\n",
       "    </tr>\n",
       "    <tr>\n",
       "      <th>2</th>\n",
       "      <td>2011-08-18 00:35:00.00000049</td>\n",
       "      <td>5.7</td>\n",
       "      <td>2011-08-18 00:35:00 UTC</td>\n",
       "      <td>-73.982738</td>\n",
       "      <td>40.761270</td>\n",
       "      <td>-73.991242</td>\n",
       "      <td>40.750562</td>\n",
       "      <td>2</td>\n",
       "      <td>1.389525</td>\n",
       "    </tr>\n",
       "    <tr>\n",
       "      <th>3</th>\n",
       "      <td>2012-04-21 04:30:42.0000001</td>\n",
       "      <td>7.7</td>\n",
       "      <td>2012-04-21 04:30:42 UTC</td>\n",
       "      <td>-73.987130</td>\n",
       "      <td>40.733143</td>\n",
       "      <td>-73.991567</td>\n",
       "      <td>40.758092</td>\n",
       "      <td>1</td>\n",
       "      <td>2.799270</td>\n",
       "    </tr>\n",
       "    <tr>\n",
       "      <th>4</th>\n",
       "      <td>2010-03-09 07:51:00.000000135</td>\n",
       "      <td>5.3</td>\n",
       "      <td>2010-03-09 07:51:00 UTC</td>\n",
       "      <td>-73.968095</td>\n",
       "      <td>40.768008</td>\n",
       "      <td>-73.956655</td>\n",
       "      <td>40.783762</td>\n",
       "      <td>1</td>\n",
       "      <td>1.999157</td>\n",
       "    </tr>\n",
       "  </tbody>\n",
       "</table>\n",
       "</div>"
      ],
      "text/plain": [
       "                             key  fare_amount          pickup_datetime  \\\n",
       "0    2009-06-15 17:26:21.0000001          4.5  2009-06-15 17:26:21 UTC   \n",
       "1    2010-01-05 16:52:16.0000002         16.9  2010-01-05 16:52:16 UTC   \n",
       "2   2011-08-18 00:35:00.00000049          5.7  2011-08-18 00:35:00 UTC   \n",
       "3    2012-04-21 04:30:42.0000001          7.7  2012-04-21 04:30:42 UTC   \n",
       "4  2010-03-09 07:51:00.000000135          5.3  2010-03-09 07:51:00 UTC   \n",
       "\n",
       "   pickup_longitude  pickup_latitude  dropoff_longitude  dropoff_latitude  \\\n",
       "0        -73.844311        40.721319         -73.841610         40.712278   \n",
       "1        -74.016048        40.711303         -73.979268         40.782004   \n",
       "2        -73.982738        40.761270         -73.991242         40.750562   \n",
       "3        -73.987130        40.733143         -73.991567         40.758092   \n",
       "4        -73.968095        40.768008         -73.956655         40.783762   \n",
       "\n",
       "   passenger_count  distance  \n",
       "0                1  1.030764  \n",
       "1                1  8.450134  \n",
       "2                2  1.389525  \n",
       "3                1  2.799270  \n",
       "4                1  1.999157  "
      ]
     },
     "execution_count": 18,
     "metadata": {},
     "output_type": "execute_result"
    }
   ],
   "source": [
    "df['distance'] = calculation_distance(df['pickup_longitude'],\n",
    "                                      df['pickup_latitude'],\n",
    "                                      df['dropoff_longitude'],\n",
    "                                      df['dropoff_latitude'])\n",
    "df.head()"
   ]
  },
  {
   "cell_type": "code",
   "execution_count": 19,
   "metadata": {},
   "outputs": [
    {
     "data": {
      "text/html": [
       "<div>\n",
       "<style scoped>\n",
       "    .dataframe tbody tr th:only-of-type {\n",
       "        vertical-align: middle;\n",
       "    }\n",
       "\n",
       "    .dataframe tbody tr th {\n",
       "        vertical-align: top;\n",
       "    }\n",
       "\n",
       "    .dataframe thead th {\n",
       "        text-align: right;\n",
       "    }\n",
       "</style>\n",
       "<table border=\"1\" class=\"dataframe\">\n",
       "  <thead>\n",
       "    <tr style=\"text-align: right;\">\n",
       "      <th></th>\n",
       "      <th>key</th>\n",
       "      <th>fare_amount</th>\n",
       "      <th>pickup_datetime</th>\n",
       "      <th>pickup_longitude</th>\n",
       "      <th>pickup_latitude</th>\n",
       "      <th>dropoff_longitude</th>\n",
       "      <th>dropoff_latitude</th>\n",
       "      <th>passenger_count</th>\n",
       "      <th>distance</th>\n",
       "      <th>azimuth</th>\n",
       "    </tr>\n",
       "  </thead>\n",
       "  <tbody>\n",
       "    <tr>\n",
       "      <th>0</th>\n",
       "      <td>2009-06-15 17:26:21.0000001</td>\n",
       "      <td>4.5</td>\n",
       "      <td>2009-06-15 17:26:21 UTC</td>\n",
       "      <td>-73.844311</td>\n",
       "      <td>40.721319</td>\n",
       "      <td>-73.841610</td>\n",
       "      <td>40.712278</td>\n",
       "      <td>1</td>\n",
       "      <td>1.030764</td>\n",
       "      <td>167.240469</td>\n",
       "    </tr>\n",
       "    <tr>\n",
       "      <th>1</th>\n",
       "      <td>2010-01-05 16:52:16.0000002</td>\n",
       "      <td>16.9</td>\n",
       "      <td>2010-01-05 16:52:16 UTC</td>\n",
       "      <td>-74.016048</td>\n",
       "      <td>40.711303</td>\n",
       "      <td>-73.979268</td>\n",
       "      <td>40.782004</td>\n",
       "      <td>1</td>\n",
       "      <td>8.450134</td>\n",
       "      <td>21.498365</td>\n",
       "    </tr>\n",
       "    <tr>\n",
       "      <th>2</th>\n",
       "      <td>2011-08-18 00:35:00.00000049</td>\n",
       "      <td>5.7</td>\n",
       "      <td>2011-08-18 00:35:00 UTC</td>\n",
       "      <td>-73.982738</td>\n",
       "      <td>40.761270</td>\n",
       "      <td>-73.991242</td>\n",
       "      <td>40.750562</td>\n",
       "      <td>2</td>\n",
       "      <td>1.389525</td>\n",
       "      <td>211.033211</td>\n",
       "    </tr>\n",
       "    <tr>\n",
       "      <th>3</th>\n",
       "      <td>2012-04-21 04:30:42.0000001</td>\n",
       "      <td>7.7</td>\n",
       "      <td>2012-04-21 04:30:42 UTC</td>\n",
       "      <td>-73.987130</td>\n",
       "      <td>40.733143</td>\n",
       "      <td>-73.991567</td>\n",
       "      <td>40.758092</td>\n",
       "      <td>1</td>\n",
       "      <td>2.799270</td>\n",
       "      <td>352.327836</td>\n",
       "    </tr>\n",
       "    <tr>\n",
       "      <th>4</th>\n",
       "      <td>2010-03-09 07:51:00.000000135</td>\n",
       "      <td>5.3</td>\n",
       "      <td>2010-03-09 07:51:00 UTC</td>\n",
       "      <td>-73.968095</td>\n",
       "      <td>40.768008</td>\n",
       "      <td>-73.956655</td>\n",
       "      <td>40.783762</td>\n",
       "      <td>1</td>\n",
       "      <td>1.999157</td>\n",
       "      <td>28.802783</td>\n",
       "    </tr>\n",
       "  </tbody>\n",
       "</table>\n",
       "</div>"
      ],
      "text/plain": [
       "                             key  fare_amount          pickup_datetime  \\\n",
       "0    2009-06-15 17:26:21.0000001          4.5  2009-06-15 17:26:21 UTC   \n",
       "1    2010-01-05 16:52:16.0000002         16.9  2010-01-05 16:52:16 UTC   \n",
       "2   2011-08-18 00:35:00.00000049          5.7  2011-08-18 00:35:00 UTC   \n",
       "3    2012-04-21 04:30:42.0000001          7.7  2012-04-21 04:30:42 UTC   \n",
       "4  2010-03-09 07:51:00.000000135          5.3  2010-03-09 07:51:00 UTC   \n",
       "\n",
       "   pickup_longitude  pickup_latitude  dropoff_longitude  dropoff_latitude  \\\n",
       "0        -73.844311        40.721319         -73.841610         40.712278   \n",
       "1        -74.016048        40.711303         -73.979268         40.782004   \n",
       "2        -73.982738        40.761270         -73.991242         40.750562   \n",
       "3        -73.987130        40.733143         -73.991567         40.758092   \n",
       "4        -73.968095        40.768008         -73.956655         40.783762   \n",
       "\n",
       "   passenger_count  distance     azimuth  \n",
       "0                1  1.030764  167.240469  \n",
       "1                1  8.450134   21.498365  \n",
       "2                2  1.389525  211.033211  \n",
       "3                1  2.799270  352.327836  \n",
       "4                1  1.999157   28.802783  "
      ]
     },
     "execution_count": 19,
     "metadata": {},
     "output_type": "execute_result"
    }
   ],
   "source": [
    "df['azimuth'] = calculation_azimuth(df['pickup_longitude'],\n",
    "                                    df['pickup_latitude'],\n",
    "                                    df['dropoff_longitude'],\n",
    "                                    df['dropoff_latitude'])\n",
    "df.head()"
   ]
  },
  {
   "cell_type": "code",
   "execution_count": 20,
   "metadata": {},
   "outputs": [
    {
     "data": {
      "text/html": [
       "<div>\n",
       "<style scoped>\n",
       "    .dataframe tbody tr th:only-of-type {\n",
       "        vertical-align: middle;\n",
       "    }\n",
       "\n",
       "    .dataframe tbody tr th {\n",
       "        vertical-align: top;\n",
       "    }\n",
       "\n",
       "    .dataframe thead th {\n",
       "        text-align: right;\n",
       "    }\n",
       "</style>\n",
       "<table border=\"1\" class=\"dataframe\">\n",
       "  <thead>\n",
       "    <tr style=\"text-align: right;\">\n",
       "      <th></th>\n",
       "      <th>key</th>\n",
       "      <th>fare_amount</th>\n",
       "      <th>pickup_datetime</th>\n",
       "      <th>pickup_longitude</th>\n",
       "      <th>pickup_latitude</th>\n",
       "      <th>dropoff_longitude</th>\n",
       "      <th>dropoff_latitude</th>\n",
       "      <th>passenger_count</th>\n",
       "      <th>distance</th>\n",
       "      <th>azimuth</th>\n",
       "      <th>hour</th>\n",
       "      <th>day</th>\n",
       "      <th>month</th>\n",
       "      <th>dayofweek</th>\n",
       "      <th>year</th>\n",
       "    </tr>\n",
       "  </thead>\n",
       "  <tbody>\n",
       "    <tr>\n",
       "      <th>0</th>\n",
       "      <td>2009-06-15 17:26:21.0000001</td>\n",
       "      <td>4.5</td>\n",
       "      <td>2009-06-15 17:26:21</td>\n",
       "      <td>-73.844311</td>\n",
       "      <td>40.721319</td>\n",
       "      <td>-73.841610</td>\n",
       "      <td>40.712278</td>\n",
       "      <td>1</td>\n",
       "      <td>1.030764</td>\n",
       "      <td>167.240469</td>\n",
       "      <td>17</td>\n",
       "      <td>15</td>\n",
       "      <td>6</td>\n",
       "      <td>0</td>\n",
       "      <td>2009</td>\n",
       "    </tr>\n",
       "    <tr>\n",
       "      <th>1</th>\n",
       "      <td>2010-01-05 16:52:16.0000002</td>\n",
       "      <td>16.9</td>\n",
       "      <td>2010-01-05 16:52:16</td>\n",
       "      <td>-74.016048</td>\n",
       "      <td>40.711303</td>\n",
       "      <td>-73.979268</td>\n",
       "      <td>40.782004</td>\n",
       "      <td>1</td>\n",
       "      <td>8.450134</td>\n",
       "      <td>21.498365</td>\n",
       "      <td>16</td>\n",
       "      <td>5</td>\n",
       "      <td>1</td>\n",
       "      <td>1</td>\n",
       "      <td>2010</td>\n",
       "    </tr>\n",
       "    <tr>\n",
       "      <th>2</th>\n",
       "      <td>2011-08-18 00:35:00.00000049</td>\n",
       "      <td>5.7</td>\n",
       "      <td>2011-08-18 00:35:00</td>\n",
       "      <td>-73.982738</td>\n",
       "      <td>40.761270</td>\n",
       "      <td>-73.991242</td>\n",
       "      <td>40.750562</td>\n",
       "      <td>2</td>\n",
       "      <td>1.389525</td>\n",
       "      <td>211.033211</td>\n",
       "      <td>0</td>\n",
       "      <td>18</td>\n",
       "      <td>8</td>\n",
       "      <td>3</td>\n",
       "      <td>2011</td>\n",
       "    </tr>\n",
       "    <tr>\n",
       "      <th>3</th>\n",
       "      <td>2012-04-21 04:30:42.0000001</td>\n",
       "      <td>7.7</td>\n",
       "      <td>2012-04-21 04:30:42</td>\n",
       "      <td>-73.987130</td>\n",
       "      <td>40.733143</td>\n",
       "      <td>-73.991567</td>\n",
       "      <td>40.758092</td>\n",
       "      <td>1</td>\n",
       "      <td>2.799270</td>\n",
       "      <td>352.327836</td>\n",
       "      <td>4</td>\n",
       "      <td>21</td>\n",
       "      <td>4</td>\n",
       "      <td>5</td>\n",
       "      <td>2012</td>\n",
       "    </tr>\n",
       "    <tr>\n",
       "      <th>4</th>\n",
       "      <td>2010-03-09 07:51:00.000000135</td>\n",
       "      <td>5.3</td>\n",
       "      <td>2010-03-09 07:51:00</td>\n",
       "      <td>-73.968095</td>\n",
       "      <td>40.768008</td>\n",
       "      <td>-73.956655</td>\n",
       "      <td>40.783762</td>\n",
       "      <td>1</td>\n",
       "      <td>1.999157</td>\n",
       "      <td>28.802783</td>\n",
       "      <td>7</td>\n",
       "      <td>9</td>\n",
       "      <td>3</td>\n",
       "      <td>1</td>\n",
       "      <td>2010</td>\n",
       "    </tr>\n",
       "  </tbody>\n",
       "</table>\n",
       "</div>"
      ],
      "text/plain": [
       "                             key  fare_amount     pickup_datetime  \\\n",
       "0    2009-06-15 17:26:21.0000001          4.5 2009-06-15 17:26:21   \n",
       "1    2010-01-05 16:52:16.0000002         16.9 2010-01-05 16:52:16   \n",
       "2   2011-08-18 00:35:00.00000049          5.7 2011-08-18 00:35:00   \n",
       "3    2012-04-21 04:30:42.0000001          7.7 2012-04-21 04:30:42   \n",
       "4  2010-03-09 07:51:00.000000135          5.3 2010-03-09 07:51:00   \n",
       "\n",
       "   pickup_longitude  pickup_latitude  dropoff_longitude  dropoff_latitude  \\\n",
       "0        -73.844311        40.721319         -73.841610         40.712278   \n",
       "1        -74.016048        40.711303         -73.979268         40.782004   \n",
       "2        -73.982738        40.761270         -73.991242         40.750562   \n",
       "3        -73.987130        40.733143         -73.991567         40.758092   \n",
       "4        -73.968095        40.768008         -73.956655         40.783762   \n",
       "\n",
       "   passenger_count  distance     azimuth  hour  day  month  dayofweek  year  \n",
       "0                1  1.030764  167.240469    17   15      6          0  2009  \n",
       "1                1  8.450134   21.498365    16    5      1          1  2010  \n",
       "2                2  1.389525  211.033211     0   18      8          3  2011  \n",
       "3                1  2.799270  352.327836     4   21      4          5  2012  \n",
       "4                1  1.999157   28.802783     7    9      3          1  2010  "
      ]
     },
     "execution_count": 20,
     "metadata": {},
     "output_type": "execute_result"
    }
   ],
   "source": [
    "df['pickup_datetime'] = pd.to_datetime(df['pickup_datetime'], format='%Y-%m-%d %H:%M:%S UTC')\n",
    "df['hour'] = df['pickup_datetime'].dt.hour\n",
    "df['day'] = df['pickup_datetime'].dt.day\n",
    "df['month'] = df['pickup_datetime'].dt.month\n",
    "df['dayofweek'] = df['pickup_datetime'].dt.dayofweek\n",
    "df['year'] = df['pickup_datetime'].dt.year\n",
    "\n",
    "df.head()"
   ]
  },
  {
   "cell_type": "markdown",
   "metadata": {},
   "source": [
    "### 学習データを用意"
   ]
  },
  {
   "cell_type": "code",
   "execution_count": 21,
   "metadata": {},
   "outputs": [],
   "source": [
    "from sklearn.model_selection import train_test_split\n",
    "import xgboost as xgb"
   ]
  },
  {
   "cell_type": "code",
   "execution_count": 22,
   "metadata": {},
   "outputs": [
    {
     "name": "stdout",
     "output_type": "stream",
     "text": [
      "(490265, 12)\n",
      "(490265,)\n"
     ]
    }
   ],
   "source": [
    "X = df.drop(columns=['key', 'fare_amount', 'pickup_datetime'])\n",
    "y = df['fare_amount']\n",
    "\n",
    "print(X.shape)\n",
    "print(y.shape)"
   ]
  },
  {
   "cell_type": "markdown",
   "metadata": {},
   "source": [
    "### データ分割"
   ]
  },
  {
   "cell_type": "code",
   "execution_count": 24,
   "metadata": {},
   "outputs": [
    {
     "name": "stdout",
     "output_type": "stream",
     "text": [
      "(392212, 12)\n",
      "(98053, 12)\n"
     ]
    }
   ],
   "source": [
    "X_train, X_test, y_train, y_test = train_test_split(X, y, test_size= 0.2, random_state=0)\n",
    "\n",
    "print(X_train.shape)\n",
    "print(X_test.shape)"
   ]
  },
  {
   "cell_type": "markdown",
   "metadata": {},
   "source": [
    "### モデル生成・学習"
   ]
  },
  {
   "cell_type": "code",
   "execution_count": 25,
   "metadata": {
    "scrolled": true
   },
   "outputs": [
    {
     "name": "stdout",
     "output_type": "stream",
     "text": [
      "[0]\ttest-rmse:8.518\n",
      "Will train until test-rmse hasn't improved in 5 rounds.\n",
      "[1]\ttest-rmse:7.72211\n",
      "[2]\ttest-rmse:7.01123\n",
      "[3]\ttest-rmse:6.37683\n",
      "[4]\ttest-rmse:5.81231\n",
      "[5]\ttest-rmse:5.31045\n",
      "[6]\ttest-rmse:4.86549\n",
      "[7]\ttest-rmse:4.4716\n",
      "[8]\ttest-rmse:4.12459\n",
      "[9]\ttest-rmse:3.81989\n",
      "[10]\ttest-rmse:3.55372\n",
      "[11]\ttest-rmse:3.321\n",
      "[12]\ttest-rmse:3.11907\n",
      "[13]\ttest-rmse:2.94449\n",
      "[14]\ttest-rmse:2.7936\n",
      "[15]\ttest-rmse:2.66308\n",
      "[16]\ttest-rmse:2.5513\n",
      "[17]\ttest-rmse:2.45545\n",
      "[18]\ttest-rmse:2.37458\n",
      "[19]\ttest-rmse:2.30664\n",
      "[20]\ttest-rmse:2.24882\n",
      "[21]\ttest-rmse:2.19985\n",
      "[22]\ttest-rmse:2.15794\n",
      "[23]\ttest-rmse:2.12127\n",
      "[24]\ttest-rmse:2.0902\n",
      "[25]\ttest-rmse:2.06474\n",
      "[26]\ttest-rmse:2.04329\n",
      "[27]\ttest-rmse:2.02426\n",
      "[28]\ttest-rmse:2.0089\n",
      "[29]\ttest-rmse:1.99512\n",
      "[30]\ttest-rmse:1.98259\n",
      "[31]\ttest-rmse:1.97273\n",
      "[32]\ttest-rmse:1.96238\n",
      "[33]\ttest-rmse:1.95481\n",
      "[34]\ttest-rmse:1.94825\n",
      "[35]\ttest-rmse:1.94075\n",
      "[36]\ttest-rmse:1.9355\n",
      "[37]\ttest-rmse:1.92884\n",
      "[38]\ttest-rmse:1.92311\n",
      "[39]\ttest-rmse:1.91924\n",
      "[40]\ttest-rmse:1.91578\n",
      "[41]\ttest-rmse:1.91199\n",
      "[42]\ttest-rmse:1.90868\n",
      "[43]\ttest-rmse:1.90568\n",
      "[44]\ttest-rmse:1.90234\n",
      "[45]\ttest-rmse:1.8993\n",
      "[46]\ttest-rmse:1.89701\n",
      "[47]\ttest-rmse:1.89475\n",
      "[48]\ttest-rmse:1.89048\n",
      "[49]\ttest-rmse:1.88875\n",
      "[50]\ttest-rmse:1.88674\n",
      "[51]\ttest-rmse:1.8839\n",
      "[52]\ttest-rmse:1.88214\n",
      "[53]\ttest-rmse:1.8805\n",
      "[54]\ttest-rmse:1.87911\n",
      "[55]\ttest-rmse:1.87545\n",
      "[56]\ttest-rmse:1.87396\n",
      "[57]\ttest-rmse:1.87237\n",
      "[58]\ttest-rmse:1.87106\n",
      "[59]\ttest-rmse:1.86991\n",
      "[60]\ttest-rmse:1.86686\n",
      "[61]\ttest-rmse:1.86577\n",
      "[62]\ttest-rmse:1.8648\n",
      "[63]\ttest-rmse:1.86213\n",
      "[64]\ttest-rmse:1.86109\n",
      "[65]\ttest-rmse:1.86035\n",
      "[66]\ttest-rmse:1.85975\n",
      "[67]\ttest-rmse:1.85776\n",
      "[68]\ttest-rmse:1.85634\n",
      "[69]\ttest-rmse:1.85551\n",
      "[70]\ttest-rmse:1.85356\n",
      "[71]\ttest-rmse:1.85298\n",
      "[72]\ttest-rmse:1.85168\n",
      "[73]\ttest-rmse:1.84953\n",
      "[74]\ttest-rmse:1.84768\n",
      "[75]\ttest-rmse:1.84685\n",
      "[76]\ttest-rmse:1.84578\n",
      "[77]\ttest-rmse:1.84463\n",
      "[78]\ttest-rmse:1.84294\n",
      "[79]\ttest-rmse:1.84189\n",
      "[80]\ttest-rmse:1.84119\n",
      "[81]\ttest-rmse:1.84072\n",
      "[82]\ttest-rmse:1.8395\n",
      "[83]\ttest-rmse:1.83895\n",
      "[84]\ttest-rmse:1.8384\n",
      "[85]\ttest-rmse:1.83791\n",
      "[86]\ttest-rmse:1.83763\n",
      "[87]\ttest-rmse:1.83666\n",
      "[88]\ttest-rmse:1.8352\n",
      "[89]\ttest-rmse:1.83487\n",
      "[90]\ttest-rmse:1.83445\n",
      "[91]\ttest-rmse:1.83306\n",
      "[92]\ttest-rmse:1.83277\n",
      "[93]\ttest-rmse:1.83253\n",
      "[94]\ttest-rmse:1.83208\n",
      "[95]\ttest-rmse:1.83121\n",
      "[96]\ttest-rmse:1.83053\n",
      "[97]\ttest-rmse:1.82954\n",
      "[98]\ttest-rmse:1.82873\n",
      "[99]\ttest-rmse:1.8284\n",
      "[100]\ttest-rmse:1.82735\n",
      "[101]\ttest-rmse:1.82679\n",
      "[102]\ttest-rmse:1.82582\n",
      "[103]\ttest-rmse:1.82564\n",
      "[104]\ttest-rmse:1.825\n",
      "[105]\ttest-rmse:1.82404\n",
      "[106]\ttest-rmse:1.8235\n",
      "[107]\ttest-rmse:1.82302\n",
      "[108]\ttest-rmse:1.82296\n",
      "[109]\ttest-rmse:1.82243\n",
      "[110]\ttest-rmse:1.82198\n",
      "[111]\ttest-rmse:1.82123\n",
      "[112]\ttest-rmse:1.82088\n",
      "[113]\ttest-rmse:1.82043\n",
      "[114]\ttest-rmse:1.81974\n",
      "[115]\ttest-rmse:1.81903\n",
      "[116]\ttest-rmse:1.81872\n",
      "[117]\ttest-rmse:1.81824\n",
      "[118]\ttest-rmse:1.81799\n",
      "[119]\ttest-rmse:1.81742\n",
      "[120]\ttest-rmse:1.81719\n",
      "[121]\ttest-rmse:1.81671\n",
      "[122]\ttest-rmse:1.81657\n",
      "[123]\ttest-rmse:1.81618\n",
      "[124]\ttest-rmse:1.816\n",
      "[125]\ttest-rmse:1.81532\n",
      "[126]\ttest-rmse:1.8149\n",
      "[127]\ttest-rmse:1.81472\n",
      "[128]\ttest-rmse:1.81372\n",
      "[129]\ttest-rmse:1.81362\n",
      "[130]\ttest-rmse:1.81352\n",
      "[131]\ttest-rmse:1.81333\n",
      "[132]\ttest-rmse:1.81295\n",
      "[133]\ttest-rmse:1.81286\n",
      "[134]\ttest-rmse:1.81259\n",
      "[135]\ttest-rmse:1.81257\n",
      "[136]\ttest-rmse:1.81238\n",
      "[137]\ttest-rmse:1.81239\n",
      "[138]\ttest-rmse:1.81185\n",
      "[139]\ttest-rmse:1.81172\n",
      "[140]\ttest-rmse:1.80976\n",
      "[141]\ttest-rmse:1.80972\n",
      "[142]\ttest-rmse:1.80936\n",
      "[143]\ttest-rmse:1.80938\n",
      "[144]\ttest-rmse:1.8085\n",
      "[145]\ttest-rmse:1.80821\n",
      "[146]\ttest-rmse:1.80811\n",
      "[147]\ttest-rmse:1.80774\n",
      "[148]\ttest-rmse:1.80767\n",
      "[149]\ttest-rmse:1.80746\n",
      "[150]\ttest-rmse:1.80704\n",
      "[151]\ttest-rmse:1.80658\n",
      "[152]\ttest-rmse:1.80662\n",
      "[153]\ttest-rmse:1.80635\n",
      "[154]\ttest-rmse:1.80571\n",
      "[155]\ttest-rmse:1.80537\n",
      "[156]\ttest-rmse:1.8051\n",
      "[157]\ttest-rmse:1.80505\n",
      "[158]\ttest-rmse:1.80482\n",
      "[159]\ttest-rmse:1.80458\n",
      "[160]\ttest-rmse:1.80429\n",
      "[161]\ttest-rmse:1.80397\n",
      "[162]\ttest-rmse:1.80392\n",
      "[163]\ttest-rmse:1.8036\n",
      "[164]\ttest-rmse:1.80328\n",
      "[165]\ttest-rmse:1.80311\n",
      "[166]\ttest-rmse:1.80183\n",
      "[167]\ttest-rmse:1.80165\n",
      "[168]\ttest-rmse:1.8016\n",
      "[169]\ttest-rmse:1.80064\n",
      "[170]\ttest-rmse:1.80049\n",
      "[171]\ttest-rmse:1.80043\n",
      "[172]\ttest-rmse:1.80021\n",
      "[173]\ttest-rmse:1.79997\n",
      "[174]\ttest-rmse:1.79973\n",
      "[175]\ttest-rmse:1.79973\n",
      "[176]\ttest-rmse:1.79957\n",
      "[177]\ttest-rmse:1.79931\n",
      "[178]\ttest-rmse:1.79804\n",
      "[179]\ttest-rmse:1.79795\n",
      "[180]\ttest-rmse:1.79781\n",
      "[181]\ttest-rmse:1.79743\n",
      "[182]\ttest-rmse:1.79675\n",
      "[183]\ttest-rmse:1.79654\n",
      "[184]\ttest-rmse:1.79642\n",
      "[185]\ttest-rmse:1.79614\n",
      "[186]\ttest-rmse:1.79579\n",
      "[187]\ttest-rmse:1.79581\n",
      "[188]\ttest-rmse:1.79581\n",
      "[189]\ttest-rmse:1.79556\n",
      "[190]\ttest-rmse:1.79526\n",
      "[191]\ttest-rmse:1.79402\n",
      "[192]\ttest-rmse:1.79385\n",
      "[193]\ttest-rmse:1.79376\n",
      "[194]\ttest-rmse:1.79369\n",
      "[195]\ttest-rmse:1.79373\n",
      "[196]\ttest-rmse:1.79326\n",
      "[197]\ttest-rmse:1.79316\n",
      "[198]\ttest-rmse:1.79301\n",
      "[199]\ttest-rmse:1.793\n",
      "[200]\ttest-rmse:1.79298\n",
      "[201]\ttest-rmse:1.79293\n",
      "[202]\ttest-rmse:1.79291\n",
      "[203]\ttest-rmse:1.79271\n",
      "[204]\ttest-rmse:1.79271\n",
      "[205]\ttest-rmse:1.7927\n",
      "[206]\ttest-rmse:1.79252\n",
      "[207]\ttest-rmse:1.79183\n",
      "[208]\ttest-rmse:1.79144\n",
      "[209]\ttest-rmse:1.79133\n",
      "[210]\ttest-rmse:1.79103\n",
      "[211]\ttest-rmse:1.79082\n",
      "[212]\ttest-rmse:1.79081\n",
      "[213]\ttest-rmse:1.7908\n",
      "[214]\ttest-rmse:1.79081\n",
      "[215]\ttest-rmse:1.79074\n",
      "[216]\ttest-rmse:1.79077\n",
      "[217]\ttest-rmse:1.79041\n",
      "[218]\ttest-rmse:1.78974\n",
      "[219]\ttest-rmse:1.78949\n",
      "[220]\ttest-rmse:1.78939\n",
      "[221]\ttest-rmse:1.78923\n",
      "[222]\ttest-rmse:1.78904\n",
      "[223]\ttest-rmse:1.78912\n",
      "[224]\ttest-rmse:1.78871\n",
      "[225]\ttest-rmse:1.78845\n",
      "[226]\ttest-rmse:1.78844\n",
      "[227]\ttest-rmse:1.78773\n",
      "[228]\ttest-rmse:1.7877\n",
      "[229]\ttest-rmse:1.78761\n",
      "[230]\ttest-rmse:1.78767\n",
      "[231]\ttest-rmse:1.78763\n",
      "[232]\ttest-rmse:1.78757\n",
      "[233]\ttest-rmse:1.787\n",
      "[234]\ttest-rmse:1.78702\n",
      "[235]\ttest-rmse:1.78706\n",
      "[236]\ttest-rmse:1.78677\n",
      "[237]\ttest-rmse:1.78674\n",
      "[238]\ttest-rmse:1.78674\n",
      "[239]\ttest-rmse:1.78683\n",
      "[240]\ttest-rmse:1.78642\n",
      "[241]\ttest-rmse:1.78598\n",
      "[242]\ttest-rmse:1.78586\n",
      "[243]\ttest-rmse:1.78529\n",
      "[244]\ttest-rmse:1.78514\n",
      "[245]\ttest-rmse:1.78493\n",
      "[246]\ttest-rmse:1.78488\n",
      "[247]\ttest-rmse:1.78486\n",
      "[248]\ttest-rmse:1.78464\n",
      "[249]\ttest-rmse:1.78462\n",
      "[250]\ttest-rmse:1.78458\n",
      "[251]\ttest-rmse:1.78461\n",
      "[252]\ttest-rmse:1.78445\n",
      "[253]\ttest-rmse:1.7839\n",
      "[254]\ttest-rmse:1.78373\n",
      "[255]\ttest-rmse:1.7837\n",
      "[256]\ttest-rmse:1.78359\n",
      "[257]\ttest-rmse:1.78359\n",
      "[258]\ttest-rmse:1.78357\n",
      "[259]\ttest-rmse:1.78359\n",
      "[260]\ttest-rmse:1.78352\n",
      "[261]\ttest-rmse:1.78345\n",
      "[262]\ttest-rmse:1.78334\n",
      "[263]\ttest-rmse:1.7832\n",
      "[264]\ttest-rmse:1.78316\n",
      "[265]\ttest-rmse:1.78309\n",
      "[266]\ttest-rmse:1.78314\n",
      "[267]\ttest-rmse:1.78234\n",
      "[268]\ttest-rmse:1.78233\n",
      "[269]\ttest-rmse:1.78227\n",
      "[270]\ttest-rmse:1.78215\n",
      "[271]\ttest-rmse:1.78211\n",
      "[272]\ttest-rmse:1.78183\n",
      "[273]\ttest-rmse:1.78175\n",
      "[274]\ttest-rmse:1.78157\n",
      "[275]\ttest-rmse:1.7813\n",
      "[276]\ttest-rmse:1.78074\n",
      "[277]\ttest-rmse:1.78045\n",
      "[278]\ttest-rmse:1.78006\n",
      "[279]\ttest-rmse:1.77995\n",
      "[280]\ttest-rmse:1.77994\n",
      "[281]\ttest-rmse:1.77989\n",
      "[282]\ttest-rmse:1.77984\n",
      "[283]\ttest-rmse:1.77976\n",
      "[284]\ttest-rmse:1.77942\n",
      "[285]\ttest-rmse:1.77941\n",
      "[286]\ttest-rmse:1.77916\n",
      "[287]\ttest-rmse:1.77863\n",
      "[288]\ttest-rmse:1.7785\n",
      "[289]\ttest-rmse:1.77851\n",
      "[290]\ttest-rmse:1.77838\n",
      "[291]\ttest-rmse:1.77843\n",
      "[292]\ttest-rmse:1.77826\n",
      "[293]\ttest-rmse:1.77814\n",
      "[294]\ttest-rmse:1.77812\n",
      "[295]\ttest-rmse:1.77816\n",
      "[296]\ttest-rmse:1.77815\n",
      "[297]\ttest-rmse:1.77814\n",
      "[298]\ttest-rmse:1.77812\n",
      "[299]\ttest-rmse:1.77786\n",
      "[300]\ttest-rmse:1.77736\n",
      "[301]\ttest-rmse:1.77698\n",
      "[302]\ttest-rmse:1.77703\n",
      "[303]\ttest-rmse:1.77661\n",
      "[304]\ttest-rmse:1.77663\n",
      "[305]\ttest-rmse:1.77658\n",
      "[306]\ttest-rmse:1.77647\n",
      "[307]\ttest-rmse:1.77628\n",
      "[308]\ttest-rmse:1.77625\n",
      "[309]\ttest-rmse:1.77575\n",
      "[310]\ttest-rmse:1.77543\n",
      "[311]\ttest-rmse:1.77526\n",
      "[312]\ttest-rmse:1.77496\n",
      "[313]\ttest-rmse:1.77477\n",
      "[314]\ttest-rmse:1.77475\n",
      "[315]\ttest-rmse:1.7745\n",
      "[316]\ttest-rmse:1.77419\n",
      "[317]\ttest-rmse:1.77405\n",
      "[318]\ttest-rmse:1.77404\n",
      "[319]\ttest-rmse:1.77398\n",
      "[320]\ttest-rmse:1.77405\n",
      "[321]\ttest-rmse:1.77365\n",
      "[322]\ttest-rmse:1.77364\n",
      "[323]\ttest-rmse:1.7737\n",
      "[324]\ttest-rmse:1.77364\n",
      "[325]\ttest-rmse:1.77364\n",
      "[326]\ttest-rmse:1.77355\n",
      "[327]\ttest-rmse:1.77347\n",
      "[328]\ttest-rmse:1.77344\n",
      "[329]\ttest-rmse:1.77306\n",
      "[330]\ttest-rmse:1.77304\n",
      "[331]\ttest-rmse:1.77302\n",
      "[332]\ttest-rmse:1.77309\n",
      "[333]\ttest-rmse:1.77309\n",
      "[334]\ttest-rmse:1.7731\n",
      "[335]\ttest-rmse:1.77292\n",
      "[336]\ttest-rmse:1.7728\n",
      "[337]\ttest-rmse:1.77269\n",
      "[338]\ttest-rmse:1.77258\n",
      "[339]\ttest-rmse:1.77256\n",
      "[340]\ttest-rmse:1.77258\n",
      "[341]\ttest-rmse:1.77254\n",
      "[342]\ttest-rmse:1.77245\n",
      "[343]\ttest-rmse:1.77243\n",
      "[344]\ttest-rmse:1.77246\n",
      "[345]\ttest-rmse:1.7724\n"
     ]
    },
    {
     "name": "stdout",
     "output_type": "stream",
     "text": [
      "[346]\ttest-rmse:1.77237\n",
      "[347]\ttest-rmse:1.77227\n",
      "[348]\ttest-rmse:1.77236\n",
      "[349]\ttest-rmse:1.77201\n",
      "[350]\ttest-rmse:1.77201\n",
      "[351]\ttest-rmse:1.77201\n",
      "[352]\ttest-rmse:1.77199\n",
      "[353]\ttest-rmse:1.77207\n",
      "[354]\ttest-rmse:1.77216\n",
      "[355]\ttest-rmse:1.77214\n",
      "[356]\ttest-rmse:1.7722\n",
      "[357]\ttest-rmse:1.77221\n",
      "Stopping. Best iteration:\n",
      "[352]\ttest-rmse:1.77199\n",
      "\n"
     ]
    }
   ],
   "source": [
    "params = {\n",
    "    'silent': 1,\n",
    "    'max_depth': 6,\n",
    "    'min_child_weight': 1,\n",
    "    'eta': 0.1,\n",
    "    'tree_method': 'exact',\n",
    "    'objective': 'reg:linear',\n",
    "    'eval_metric': 'rmse',\n",
    "    'predictor': 'cpu_predictor'\n",
    "}\n",
    "\n",
    "dtrain = xgb.DMatrix(X_train, label=y_train)\n",
    "dtest = xgb.DMatrix(X_test, label=y_test)\n",
    "model = xgb.train(params=params,\n",
    "                  dtrain=dtrain,\n",
    "                  num_boost_round=1000,\n",
    "                  early_stopping_rounds=5,\n",
    "                  evals=[(dtest, 'test')])"
   ]
  },
  {
   "cell_type": "code",
   "execution_count": 26,
   "metadata": {},
   "outputs": [
    {
     "data": {
      "text/plain": [
       "[(6, 0.1),\n",
       " (6, 0.05),\n",
       " (6, 0.01),\n",
       " (7, 0.1),\n",
       " (7, 0.05),\n",
       " (7, 0.01),\n",
       " (8, 0.1),\n",
       " (8, 0.05),\n",
       " (8, 0.01)]"
      ]
     },
     "execution_count": 26,
     "metadata": {},
     "output_type": "execute_result"
    }
   ],
   "source": [
    "gridsearch_params = [\n",
    "    (max_depth, eta)\n",
    "    for max_depth in [6, 7, 8]\n",
    "    for eta in [0.1, 0.05, 0.01]\n",
    "]\n",
    "gridsearch_params"
   ]
  },
  {
   "cell_type": "code",
   "execution_count": 27,
   "metadata": {},
   "outputs": [
    {
     "ename": "KeyboardInterrupt",
     "evalue": "",
     "output_type": "error",
     "traceback": [
      "\u001b[1;31m---------------------------------------------------------------------------\u001b[0m",
      "\u001b[1;31mKeyboardInterrupt\u001b[0m                         Traceback (most recent call last)",
      "\u001b[1;32m<ipython-input-27-ce0933b39bcc>\u001b[0m in \u001b[0;36m<module>\u001b[1;34m\u001b[0m\n\u001b[0;32m      6\u001b[0m     \u001b[0mnfold\u001b[0m\u001b[1;33m=\u001b[0m\u001b[1;36m5\u001b[0m\u001b[1;33m,\u001b[0m\u001b[1;33m\u001b[0m\u001b[1;33m\u001b[0m\u001b[0m\n\u001b[0;32m      7\u001b[0m     \u001b[0mmetrics\u001b[0m\u001b[1;33m=\u001b[0m\u001b[1;33m{\u001b[0m\u001b[1;34m'rmse'\u001b[0m\u001b[1;33m}\u001b[0m\u001b[1;33m,\u001b[0m\u001b[1;33m\u001b[0m\u001b[1;33m\u001b[0m\u001b[0m\n\u001b[1;32m----> 8\u001b[1;33m     \u001b[0mearly_stopping_rounds\u001b[0m\u001b[1;33m=\u001b[0m\u001b[1;36m5\u001b[0m\u001b[1;33m\u001b[0m\u001b[1;33m\u001b[0m\u001b[0m\n\u001b[0m\u001b[0;32m      9\u001b[0m )\n\u001b[0;32m     10\u001b[0m \u001b[1;33m\u001b[0m\u001b[0m\n",
      "\u001b[1;32m~\\Anaconda3\\lib\\site-packages\\xgboost\\training.py\u001b[0m in \u001b[0;36mcv\u001b[1;34m(params, dtrain, num_boost_round, nfold, stratified, folds, metrics, obj, feval, maximize, early_stopping_rounds, fpreproc, as_pandas, verbose_eval, show_stdv, seed, callbacks, shuffle)\u001b[0m\n\u001b[0;32m    443\u001b[0m                            evaluation_result_list=None))\n\u001b[0;32m    444\u001b[0m         \u001b[1;32mfor\u001b[0m \u001b[0mfold\u001b[0m \u001b[1;32min\u001b[0m \u001b[0mcvfolds\u001b[0m\u001b[1;33m:\u001b[0m\u001b[1;33m\u001b[0m\u001b[1;33m\u001b[0m\u001b[0m\n\u001b[1;32m--> 445\u001b[1;33m             \u001b[0mfold\u001b[0m\u001b[1;33m.\u001b[0m\u001b[0mupdate\u001b[0m\u001b[1;33m(\u001b[0m\u001b[0mi\u001b[0m\u001b[1;33m,\u001b[0m \u001b[0mobj\u001b[0m\u001b[1;33m)\u001b[0m\u001b[1;33m\u001b[0m\u001b[1;33m\u001b[0m\u001b[0m\n\u001b[0m\u001b[0;32m    446\u001b[0m         \u001b[0mres\u001b[0m \u001b[1;33m=\u001b[0m \u001b[0maggcv\u001b[0m\u001b[1;33m(\u001b[0m\u001b[1;33m[\u001b[0m\u001b[0mf\u001b[0m\u001b[1;33m.\u001b[0m\u001b[0meval\u001b[0m\u001b[1;33m(\u001b[0m\u001b[0mi\u001b[0m\u001b[1;33m,\u001b[0m \u001b[0mfeval\u001b[0m\u001b[1;33m)\u001b[0m \u001b[1;32mfor\u001b[0m \u001b[0mf\u001b[0m \u001b[1;32min\u001b[0m \u001b[0mcvfolds\u001b[0m\u001b[1;33m]\u001b[0m\u001b[1;33m)\u001b[0m\u001b[1;33m\u001b[0m\u001b[1;33m\u001b[0m\u001b[0m\n\u001b[0;32m    447\u001b[0m \u001b[1;33m\u001b[0m\u001b[0m\n",
      "\u001b[1;32m~\\Anaconda3\\lib\\site-packages\\xgboost\\training.py\u001b[0m in \u001b[0;36mupdate\u001b[1;34m(self, iteration, fobj)\u001b[0m\n\u001b[0;32m    228\u001b[0m     \u001b[1;32mdef\u001b[0m \u001b[0mupdate\u001b[0m\u001b[1;33m(\u001b[0m\u001b[0mself\u001b[0m\u001b[1;33m,\u001b[0m \u001b[0miteration\u001b[0m\u001b[1;33m,\u001b[0m \u001b[0mfobj\u001b[0m\u001b[1;33m)\u001b[0m\u001b[1;33m:\u001b[0m\u001b[1;33m\u001b[0m\u001b[1;33m\u001b[0m\u001b[0m\n\u001b[0;32m    229\u001b[0m         \u001b[1;34m\"\"\"\"Update the boosters for one iteration\"\"\"\u001b[0m\u001b[1;33m\u001b[0m\u001b[1;33m\u001b[0m\u001b[0m\n\u001b[1;32m--> 230\u001b[1;33m         \u001b[0mself\u001b[0m\u001b[1;33m.\u001b[0m\u001b[0mbst\u001b[0m\u001b[1;33m.\u001b[0m\u001b[0mupdate\u001b[0m\u001b[1;33m(\u001b[0m\u001b[0mself\u001b[0m\u001b[1;33m.\u001b[0m\u001b[0mdtrain\u001b[0m\u001b[1;33m,\u001b[0m \u001b[0miteration\u001b[0m\u001b[1;33m,\u001b[0m \u001b[0mfobj\u001b[0m\u001b[1;33m)\u001b[0m\u001b[1;33m\u001b[0m\u001b[1;33m\u001b[0m\u001b[0m\n\u001b[0m\u001b[0;32m    231\u001b[0m \u001b[1;33m\u001b[0m\u001b[0m\n\u001b[0;32m    232\u001b[0m     \u001b[1;32mdef\u001b[0m \u001b[0meval\u001b[0m\u001b[1;33m(\u001b[0m\u001b[0mself\u001b[0m\u001b[1;33m,\u001b[0m \u001b[0miteration\u001b[0m\u001b[1;33m,\u001b[0m \u001b[0mfeval\u001b[0m\u001b[1;33m)\u001b[0m\u001b[1;33m:\u001b[0m\u001b[1;33m\u001b[0m\u001b[1;33m\u001b[0m\u001b[0m\n",
      "\u001b[1;32m~\\Anaconda3\\lib\\site-packages\\xgboost\\core.py\u001b[0m in \u001b[0;36mupdate\u001b[1;34m(self, dtrain, iteration, fobj)\u001b[0m\n\u001b[0;32m   1043\u001b[0m         \u001b[1;32mif\u001b[0m \u001b[0mfobj\u001b[0m \u001b[1;32mis\u001b[0m \u001b[1;32mNone\u001b[0m\u001b[1;33m:\u001b[0m\u001b[1;33m\u001b[0m\u001b[1;33m\u001b[0m\u001b[0m\n\u001b[0;32m   1044\u001b[0m             _check_call(_LIB.XGBoosterUpdateOneIter(self.handle, ctypes.c_int(iteration),\n\u001b[1;32m-> 1045\u001b[1;33m                                                     dtrain.handle))\n\u001b[0m\u001b[0;32m   1046\u001b[0m         \u001b[1;32melse\u001b[0m\u001b[1;33m:\u001b[0m\u001b[1;33m\u001b[0m\u001b[1;33m\u001b[0m\u001b[0m\n\u001b[0;32m   1047\u001b[0m             \u001b[0mpred\u001b[0m \u001b[1;33m=\u001b[0m \u001b[0mself\u001b[0m\u001b[1;33m.\u001b[0m\u001b[0mpredict\u001b[0m\u001b[1;33m(\u001b[0m\u001b[0mdtrain\u001b[0m\u001b[1;33m)\u001b[0m\u001b[1;33m\u001b[0m\u001b[1;33m\u001b[0m\u001b[0m\n",
      "\u001b[1;31mKeyboardInterrupt\u001b[0m: "
     ]
    }
   ],
   "source": [
    "cv_results = xgb.cv(\n",
    "    params,\n",
    "    dtrain,\n",
    "    num_boost_round=1000,\n",
    "    seed=0,\n",
    "    nfold=5,\n",
    "    metrics={'rmse'},\n",
    "    early_stopping_rounds=5\n",
    ")\n",
    "\n",
    "cv_results"
   ]
  },
  {
   "cell_type": "code",
   "execution_count": null,
   "metadata": {},
   "outputs": [],
   "source": [
    "min_rmse = float('Inf')\n",
    "best_params = []\n",
    "\n",
    "for max_depth, eta in gridsearch_params:\n",
    "    print('max_depth={}, eta={}'.format(max_depth, eta))\n",
    "    \n",
    "    params['max_depth'] = max_depth\n",
    "    params['eta'] = eta\n",
    "    \n",
    "    cv_results = xgb.cv(\n",
    "        params,\n",
    "        dtrain,\n",
    "        num_boost_round=1000,\n",
    "        seed=0,\n",
    "        nfold=5,\n",
    "        metrics={'rmse'},\n",
    "        early_stopping_rounds=5\n",
    "    )\n",
    "    \n",
    "    mean_rmse = cv_results['test-rmse-mean'].min()\n",
    "    boost_rounds = cv_results['test-rmse-mean'].argmin()\n",
    "    \n",
    "    print('RMSE {} for {} rounds'.format(mean_rmse, boost_rounds))\n",
    "    if mean_rmse < min_rmse:\n",
    "        min_rmse = mean_rmse\n",
    "        best_params = (max_depth, eta)\n",
    "\n",
    "print('Best params {}, RMSE {}'.format(best_param, min_rmse))"
   ]
  },
  {
   "cell_type": "code",
   "execution_count": 28,
   "metadata": {},
   "outputs": [
    {
     "data": {
      "image/png": "[encoded data removed]",
      "text/plain": [
       "<Figure size 864x864 with 1 Axes>"
      ]
     },
     "metadata": {
      "needs_background": "light"
     },
     "output_type": "display_data"
    }
   ],
   "source": [
    "prediction = model.predict(xgb.DMatrix(X_test),\n",
    "                           ntree_limit=model.best_ntree_limit)\n",
    "\n",
    "plt.figure(figsize=(12, 12))\n",
    "plt.scatter(y_test[:1000], prediction[:1000], alpha=0.2)\n",
    "plt.show()"
   ]
  },
  {
   "cell_type": "code",
   "execution_count": 29,
   "metadata": {},
   "outputs": [
    {
     "data": {
      "image/png": "[encoded data removed]",
      "text/plain": [
       "<Figure size 864x864 with 1 Axes>"
      ]
     },
     "metadata": {
      "needs_background": "light"
     },
     "output_type": "display_data"
    }
   ],
   "source": [
    "fig, ax = plt.subplots(figsize=(12, 12))\n",
    "xgb.plot_importance(model, max_num_features=12, height=0.8, ax=ax)\n",
    "plt.show()"
   ]
  },
  {
   "cell_type": "code",
   "execution_count": null,
   "metadata": {},
   "outputs": [],
   "source": []
  }
 ],
 "metadata": {
  "kernelspec": {
   "display_name": "Python 3",
   "language": "python",
   "name": "python3"
  },
  "language_info": {
   "codemirror_mode": {
    "name": "ipython",
    "version": 3
   },
   "file_extension": ".py",
   "mimetype": "text/x-python",
   "name": "python",
   "nbconvert_exporter": "python",
   "pygments_lexer": "ipython3",
   "version": "3.7.1"
  }
 },
 "nbformat": 4,
 "nbformat_minor": 2
}
