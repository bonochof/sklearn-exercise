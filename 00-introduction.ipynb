{
 "cells": [
  {
   "cell_type": "markdown",
   "metadata": {},
   "source": [
    "# まずはやってみる"
   ]
  },
  {
   "cell_type": "code",
   "execution_count": 34,
   "metadata": {},
   "outputs": [],
   "source": [
    "import numpy as np\n",
    "import pandas as pd\n",
    "import matplotlib.pyplot as plt\n",
    "%matplotlib inline"
   ]
  },
  {
   "cell_type": "markdown",
   "metadata": {},
   "source": [
    "### 疑似データ作成"
   ]
  },
  {
   "cell_type": "code",
   "execution_count": 46,
   "metadata": {},
   "outputs": [
    {
     "data": {
      "text/plain": [
       "array([[ 11,  76,   6,  19,  32],\n",
       "       [ 81,  75,  63,  38,  99],\n",
       "       [ 93,  61,  87,  78,  10],\n",
       "       [ 19,  43,  37,   8,   5],\n",
       "       [ 59,  66,  65,  61,  54],\n",
       "       [ 41,   4,  21,  72,  19],\n",
       "       [ 99,   6,  18,   1,  54],\n",
       "       [ 33,  78,  21,  55,  77],\n",
       "       [ 53,  93,  87,  91,   5],\n",
       "       [ 10,   8,  48,   7,  21],\n",
       "       [ 17,  22,  47,   4,  81],\n",
       "       [ 61,  25,  54,  12,  41],\n",
       "       [ 34,  90,  31,  67,  24],\n",
       "       [ 73,  77,  36,  35,  88],\n",
       "       [  8,  78, 100,  79,  17],\n",
       "       [  3,  99,  69,  83,  71],\n",
       "       [  5,  36,  89,  38,  98],\n",
       "       [ 14,  11,  62,  16,  95],\n",
       "       [ 73,  60,  87,  49,  83],\n",
       "       [ 11,  35,  84,  43,   1],\n",
       "       [  2,  68,  56,  48,  63],\n",
       "       [ 47,  19,  98,  61,  57],\n",
       "       [ 19,  56,  75,  26,   5],\n",
       "       [ 75,  21,  60,  68,  94],\n",
       "       [  6,  50,  88,  54,  87],\n",
       "       [100,  11,  99,  64,  75],\n",
       "       [ 47,  41,  45,  62,   7],\n",
       "       [  6,  90,  13,  36,  83],\n",
       "       [ 95,  30,  15,  57,  22],\n",
       "       [ 56,  76,  53,  20,   7],\n",
       "       [  5,  97,  59,  65,  38],\n",
       "       [ 43,  27,  81,  98,  57],\n",
       "       [ 62,  90,  52,  42,  63],\n",
       "       [ 75,  65,  17,  49,  85],\n",
       "       [ 43,  50,  73,  35,  31],\n",
       "       [ 30,  47,  15,  41,  61],\n",
       "       [ 39,  92,  62,  61,  56],\n",
       "       [ 58,  43,  98,  98,  18],\n",
       "       [ 71,  48,  71,  44,  57],\n",
       "       [ 54,  95,  73,  62,  49],\n",
       "       [ 44,  51,  52, 100,  15],\n",
       "       [ 58,  56,  55,  76,  86],\n",
       "       [100,  29,  76,  87,  87],\n",
       "       [ 21,  66,  52,  14,  30],\n",
       "       [ 30,  15,  21,  75,  48],\n",
       "       [ 33,  53,   9,  62,  56],\n",
       "       [ 74,  70,  58,   1,  18],\n",
       "       [ 15,  83,  75,  12,  67],\n",
       "       [ 15,  76,  50,  39,  76],\n",
       "       [ 28,  71,  49,  43,   3],\n",
       "       [ 97,   4,  52,  11,  58],\n",
       "       [ 90,   2,  36,  83,  10],\n",
       "       [ 67,  20,  76,  93,  47],\n",
       "       [ 85,  20,  52,  39,  49],\n",
       "       [  5,  73,  23,  54,  80],\n",
       "       [ 99,  90,  45,  83,  59],\n",
       "       [ 16,  50,  63,  62,  78],\n",
       "       [ 17,   4,  73,  67,  97],\n",
       "       [ 33,  61,  28,  65,  33],\n",
       "       [ 55,  24,  74,  47,  48],\n",
       "       [ 11,  49,  21,  82,  75],\n",
       "       [ 30,   0,  49,  60,  96],\n",
       "       [  5,  35,  95,   9,  82],\n",
       "       [ 90,  42,   9,  49,  79],\n",
       "       [ 60,   2,  50,  96,   9],\n",
       "       [ 67,  44,  49,  10,  25],\n",
       "       [ 70,  89,  41,  24,  95],\n",
       "       [ 49,  83,  32,  47,  14],\n",
       "       [ 40,  88,  99,  44,  82],\n",
       "       [ 42,  44,  78,  73,   8],\n",
       "       [ 91,  49,  31,  61,  29],\n",
       "       [ 89,  10,  13,  25,  90],\n",
       "       [ 16,  34,  30,  19,  87],\n",
       "       [ 18,  79,  72,  78,  57],\n",
       "       [ 46,  63,  14,  18,  58],\n",
       "       [ 49,  63,  96,  80,  73],\n",
       "       [  7,  99,  53,  47,  56],\n",
       "       [ 51,  25,  34,  18,  24],\n",
       "       [ 51,  29,  19,  25,  25],\n",
       "       [ 99,  78,  45,  25,  58],\n",
       "       [ 47,  31,  56,  94,   3],\n",
       "       [ 55,  49,  62,  25,  48],\n",
       "       [  6,  94,  29,  31,  66],\n",
       "       [ 21,  87,  69,  10,  58],\n",
       "       [ 28,  22,  76,  61,  60],\n",
       "       [ 95,  82,  91,  70,  48],\n",
       "       [ 30,  36,  97,  99,  94],\n",
       "       [ 70,  74,  95,  41,  70],\n",
       "       [ 57,  12,  62,  55,  33],\n",
       "       [ 32,   4,  45,  27,  52],\n",
       "       [ 16,  41,  50,  42,   9],\n",
       "       [ 28,  64,  41,  53,  47],\n",
       "       [ 68,  77,  39,  58,  79],\n",
       "       [ 61,  14,  16,  65,  61],\n",
       "       [ 56,  70,  34,  91,  88],\n",
       "       [ 16,  96,  31,  92,  53],\n",
       "       [ 89,  83,  96,  54,  45],\n",
       "       [ 67,   0,  96,  86,  98],\n",
       "       [ 87,  89,  54,  64,  89],\n",
       "       [ 80,  18,  86,   6,  43]])"
      ]
     },
     "execution_count": 46,
     "metadata": {},
     "output_type": "execute_result"
    }
   ],
   "source": [
    "score = np.random.randint(0, 101, (100, 5))\n",
    "score"
   ]
  },
  {
   "cell_type": "code",
   "execution_count": 48,
   "metadata": {},
   "outputs": [
    {
     "data": {
      "text/plain": [
       "array([1, 1, 1, 0, 0, 0, 0, 1, 0, 1, 1, 1, 1, 1, 0, 0, 0, 1, 0, 0, 1, 1,\n",
       "       0, 1, 1, 0, 1, 1, 0, 1, 1, 0, 1, 0, 1, 1, 0, 0, 1, 1, 1, 1, 1, 0,\n",
       "       0, 0, 1, 1, 0, 1, 1, 0, 0, 1, 0, 1, 0, 0, 1, 1, 0, 1, 1, 0, 0, 0,\n",
       "       1, 0, 0, 1, 0, 0, 1, 1, 0, 1, 1, 0, 0, 0, 1, 0, 1, 0, 0, 0, 1, 0,\n",
       "       0, 0, 1, 1, 0, 1, 1, 1, 0, 1, 1, 1])"
      ]
     },
     "execution_count": 48,
     "metadata": {},
     "output_type": "execute_result"
    }
   ],
   "source": [
    "result = np.random.randint(0, 2, 100)\n",
    "result"
   ]
  },
  {
   "cell_type": "markdown",
   "metadata": {},
   "source": [
    "### データフレームに格納"
   ]
  },
  {
   "cell_type": "code",
   "execution_count": 44,
   "metadata": {},
   "outputs": [
    {
     "ename": "ValueError",
     "evalue": "all the input arrays must have same number of dimensions",
     "output_type": "error",
     "traceback": [
      "\u001b[1;31m---------------------------------------------------------------------------\u001b[0m",
      "\u001b[1;31mValueError\u001b[0m                                Traceback (most recent call last)",
      "\u001b[1;32m<ipython-input-44-8edf2f167bf8>\u001b[0m in \u001b[0;36m<module>\u001b[1;34m\u001b[0m\n\u001b[1;32m----> 1\u001b[1;33m \u001b[0mprint\u001b[0m\u001b[1;33m(\u001b[0m\u001b[0mnp\u001b[0m\u001b[1;33m.\u001b[0m\u001b[0mhstack\u001b[0m\u001b[1;33m(\u001b[0m\u001b[1;33m[\u001b[0m\u001b[0mscore\u001b[0m\u001b[1;33m,\u001b[0m \u001b[0mresult\u001b[0m\u001b[1;33m]\u001b[0m\u001b[1;33m)\u001b[0m\u001b[1;33m)\u001b[0m\u001b[1;33m\u001b[0m\u001b[1;33m\u001b[0m\u001b[0m\n\u001b[0m",
      "\u001b[1;32m~\\Anaconda3\\lib\\site-packages\\numpy\\core\\shape_base.py\u001b[0m in \u001b[0;36mhstack\u001b[1;34m(tup)\u001b[0m\n\u001b[0;32m    286\u001b[0m         \u001b[1;32mreturn\u001b[0m \u001b[0m_nx\u001b[0m\u001b[1;33m.\u001b[0m\u001b[0mconcatenate\u001b[0m\u001b[1;33m(\u001b[0m\u001b[0marrs\u001b[0m\u001b[1;33m,\u001b[0m \u001b[1;36m0\u001b[0m\u001b[1;33m)\u001b[0m\u001b[1;33m\u001b[0m\u001b[1;33m\u001b[0m\u001b[0m\n\u001b[0;32m    287\u001b[0m     \u001b[1;32melse\u001b[0m\u001b[1;33m:\u001b[0m\u001b[1;33m\u001b[0m\u001b[1;33m\u001b[0m\u001b[0m\n\u001b[1;32m--> 288\u001b[1;33m         \u001b[1;32mreturn\u001b[0m \u001b[0m_nx\u001b[0m\u001b[1;33m.\u001b[0m\u001b[0mconcatenate\u001b[0m\u001b[1;33m(\u001b[0m\u001b[0marrs\u001b[0m\u001b[1;33m,\u001b[0m \u001b[1;36m1\u001b[0m\u001b[1;33m)\u001b[0m\u001b[1;33m\u001b[0m\u001b[1;33m\u001b[0m\u001b[0m\n\u001b[0m\u001b[0;32m    289\u001b[0m \u001b[1;33m\u001b[0m\u001b[0m\n\u001b[0;32m    290\u001b[0m \u001b[1;33m\u001b[0m\u001b[0m\n",
      "\u001b[1;31mValueError\u001b[0m: all the input arrays must have same number of dimensions"
     ]
    }
   ],
   "source": [
    "print(np.hstack([score, result]))"
   ]
  },
  {
   "cell_type": "code",
   "execution_count": 15,
   "metadata": {},
   "outputs": [
    {
     "ename": "ValueError",
     "evalue": "all the input arrays must have same number of dimensions",
     "output_type": "error",
     "traceback": [
      "\u001b[1;31m---------------------------------------------------------------------------\u001b[0m",
      "\u001b[1;31mValueError\u001b[0m                                Traceback (most recent call last)",
      "\u001b[1;32m<ipython-input-15-bf32838f7580>\u001b[0m in \u001b[0;36m<module>\u001b[1;34m\u001b[0m\n\u001b[1;32m----> 1\u001b[1;33m \u001b[0mdf\u001b[0m \u001b[1;33m=\u001b[0m \u001b[0mpd\u001b[0m\u001b[1;33m.\u001b[0m\u001b[0mDataFrame\u001b[0m\u001b[1;33m(\u001b[0m\u001b[0mcolumns\u001b[0m\u001b[1;33m=\u001b[0m\u001b[1;33m[\u001b[0m\u001b[1;34m'国語'\u001b[0m\u001b[1;33m,\u001b[0m \u001b[1;34m'数学'\u001b[0m\u001b[1;33m,\u001b[0m \u001b[1;34m'理科'\u001b[0m\u001b[1;33m,\u001b[0m \u001b[1;34m'社会'\u001b[0m\u001b[1;33m,\u001b[0m \u001b[1;34m'英語'\u001b[0m\u001b[1;33m,\u001b[0m \u001b[1;34m'結果'\u001b[0m\u001b[1;33m]\u001b[0m\u001b[1;33m,\u001b[0m \u001b[0mdata\u001b[0m\u001b[1;33m=\u001b[0m\u001b[0mnp\u001b[0m\u001b[1;33m.\u001b[0m\u001b[0mconcatenate\u001b[0m\u001b[1;33m(\u001b[0m\u001b[1;33m[\u001b[0m\u001b[0mscore\u001b[0m\u001b[1;33m,\u001b[0m \u001b[0mresult\u001b[0m\u001b[1;33m]\u001b[0m\u001b[1;33m,\u001b[0m \u001b[1;36m1\u001b[0m\u001b[1;33m)\u001b[0m\u001b[1;33m)\u001b[0m\u001b[1;33m\u001b[0m\u001b[1;33m\u001b[0m\u001b[0m\n\u001b[0m\u001b[0;32m      2\u001b[0m \u001b[0mdf\u001b[0m\u001b[1;33m\u001b[0m\u001b[1;33m\u001b[0m\u001b[0m\n",
      "\u001b[1;31mValueError\u001b[0m: all the input arrays must have same number of dimensions"
     ]
    }
   ],
   "source": [
    "df = pd.DataFrame(columns=['国語', '数学', '理科', '社会', '英語', '結果'], data=np.concatenate([score, result], 1))\n",
    "df"
   ]
  },
  {
   "cell_type": "code",
   "execution_count": null,
   "metadata": {},
   "outputs": [],
   "source": [
    "from sklearn.model_selection import train_test_split"
   ]
  },
  {
   "cell_type": "code",
   "execution_count": null,
   "metadata": {},
   "outputs": [],
   "source": [
    "X_train, X_test, y_train, y_test = train_test_split(X, )"
   ]
  },
  {
   "cell_type": "markdown",
   "metadata": {},
   "source": [
    "### モデルを生成(ランダムフォレスト)"
   ]
  },
  {
   "cell_type": "code",
   "execution_count": null,
   "metadata": {},
   "outputs": [],
   "source": [
    "from sklearn.ensemble import RandomForestClassifier"
   ]
  },
  {
   "cell_type": "code",
   "execution_count": null,
   "metadata": {},
   "outputs": [],
   "source": [
    "model = RandomForestClassifier().fit(X_train, y_train)"
   ]
  },
  {
   "cell_type": "code",
   "execution_count": null,
   "metadata": {},
   "outputs": [],
   "source": []
  },
  {
   "cell_type": "code",
   "execution_count": null,
   "metadata": {},
   "outputs": [],
   "source": []
  }
 ],
 "metadata": {
  "kernelspec": {
   "display_name": "Python 3",
   "language": "python",
   "name": "python3"
  },
  "language_info": {
   "codemirror_mode": {
    "name": "ipython",
    "version": 3
   },
   "file_extension": ".py",
   "mimetype": "text/x-python",
   "name": "python",
   "nbconvert_exporter": "python",
   "pygments_lexer": "ipython3",
   "version": "3.7.1"
  }
 },
 "nbformat": 4,
 "nbformat_minor": 2
}
